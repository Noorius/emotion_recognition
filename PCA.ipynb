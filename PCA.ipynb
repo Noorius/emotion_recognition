{
 "cells": [
  {
   "cell_type": "code",
   "execution_count": 1,
   "id": "069bb9ee",
   "metadata": {},
   "outputs": [],
   "source": [
    "from sklearn.model_selection import train_test_split\n",
    "import pandas as pd\n",
    "import numpy as np\n",
    "from sklearn.preprocessing import StandardScaler"
   ]
  },
  {
   "cell_type": "markdown",
   "id": "ad45ce33",
   "metadata": {},
   "source": [
    "# Not Divided "
   ]
  },
  {
   "cell_type": "code",
   "execution_count": 2,
   "id": "0aae14cd",
   "metadata": {},
   "outputs": [],
   "source": [
    "df = pd.read_csv(\"nose_dataset.csv\")"
   ]
  },
  {
   "cell_type": "code",
   "execution_count": 3,
   "id": "f46b8649",
   "metadata": {
    "scrolled": false
   },
   "outputs": [
    {
     "data": {
      "text/html": [
       "<div>\n",
       "<style scoped>\n",
       "    .dataframe tbody tr th:only-of-type {\n",
       "        vertical-align: middle;\n",
       "    }\n",
       "\n",
       "    .dataframe tbody tr th {\n",
       "        vertical-align: top;\n",
       "    }\n",
       "\n",
       "    .dataframe thead th {\n",
       "        text-align: right;\n",
       "    }\n",
       "</style>\n",
       "<table border=\"1\" class=\"dataframe\">\n",
       "  <thead>\n",
       "    <tr style=\"text-align: right;\">\n",
       "      <th></th>\n",
       "      <th>0</th>\n",
       "      <th>1</th>\n",
       "      <th>2</th>\n",
       "      <th>3</th>\n",
       "      <th>4</th>\n",
       "      <th>5</th>\n",
       "      <th>6</th>\n",
       "      <th>7</th>\n",
       "      <th>8</th>\n",
       "      <th>9</th>\n",
       "      <th>...</th>\n",
       "      <th>947</th>\n",
       "      <th>948</th>\n",
       "      <th>949</th>\n",
       "      <th>950</th>\n",
       "      <th>951</th>\n",
       "      <th>952</th>\n",
       "      <th>953</th>\n",
       "      <th>954</th>\n",
       "      <th>955</th>\n",
       "      <th>y</th>\n",
       "    </tr>\n",
       "  </thead>\n",
       "  <tbody>\n",
       "    <tr>\n",
       "      <th>0</th>\n",
       "      <td>0.0699</td>\n",
       "      <td>0.0</td>\n",
       "      <td>0.0192</td>\n",
       "      <td>0.1102</td>\n",
       "      <td>0.0301</td>\n",
       "      <td>0.0736</td>\n",
       "      <td>0.1848</td>\n",
       "      <td>0.2832</td>\n",
       "      <td>0.2666</td>\n",
       "      <td>0.3077</td>\n",
       "      <td>...</td>\n",
       "      <td>0.2842</td>\n",
       "      <td>0.3166</td>\n",
       "      <td>0.3095</td>\n",
       "      <td>0.2761</td>\n",
       "      <td>0.2886</td>\n",
       "      <td>0.3025</td>\n",
       "      <td>0.3088</td>\n",
       "      <td>0.2770</td>\n",
       "      <td>0.2699</td>\n",
       "      <td>0.0</td>\n",
       "    </tr>\n",
       "    <tr>\n",
       "      <th>1</th>\n",
       "      <td>0.0728</td>\n",
       "      <td>0.0</td>\n",
       "      <td>0.0151</td>\n",
       "      <td>0.0931</td>\n",
       "      <td>0.0249</td>\n",
       "      <td>0.0621</td>\n",
       "      <td>0.1573</td>\n",
       "      <td>0.2320</td>\n",
       "      <td>0.2209</td>\n",
       "      <td>0.2534</td>\n",
       "      <td>...</td>\n",
       "      <td>0.2409</td>\n",
       "      <td>0.2679</td>\n",
       "      <td>0.2621</td>\n",
       "      <td>0.2341</td>\n",
       "      <td>0.2633</td>\n",
       "      <td>0.2773</td>\n",
       "      <td>0.2794</td>\n",
       "      <td>0.2509</td>\n",
       "      <td>0.2480</td>\n",
       "      <td>0.0</td>\n",
       "    </tr>\n",
       "    <tr>\n",
       "      <th>2</th>\n",
       "      <td>0.1262</td>\n",
       "      <td>0.0</td>\n",
       "      <td>0.0474</td>\n",
       "      <td>0.1013</td>\n",
       "      <td>0.0291</td>\n",
       "      <td>0.0652</td>\n",
       "      <td>0.1574</td>\n",
       "      <td>0.3216</td>\n",
       "      <td>0.2248</td>\n",
       "      <td>0.2597</td>\n",
       "      <td>...</td>\n",
       "      <td>0.2858</td>\n",
       "      <td>0.3187</td>\n",
       "      <td>0.3225</td>\n",
       "      <td>0.2886</td>\n",
       "      <td>0.2860</td>\n",
       "      <td>0.2872</td>\n",
       "      <td>0.3019</td>\n",
       "      <td>0.2868</td>\n",
       "      <td>0.2715</td>\n",
       "      <td>0.0</td>\n",
       "    </tr>\n",
       "    <tr>\n",
       "      <th>3</th>\n",
       "      <td>0.1193</td>\n",
       "      <td>0.0</td>\n",
       "      <td>0.0355</td>\n",
       "      <td>0.1073</td>\n",
       "      <td>0.0336</td>\n",
       "      <td>0.0766</td>\n",
       "      <td>0.1808</td>\n",
       "      <td>0.2385</td>\n",
       "      <td>0.2530</td>\n",
       "      <td>0.2943</td>\n",
       "      <td>...</td>\n",
       "      <td>0.2979</td>\n",
       "      <td>0.3208</td>\n",
       "      <td>0.3095</td>\n",
       "      <td>0.2859</td>\n",
       "      <td>0.2934</td>\n",
       "      <td>0.3032</td>\n",
       "      <td>0.3101</td>\n",
       "      <td>0.2849</td>\n",
       "      <td>0.2770</td>\n",
       "      <td>0.0</td>\n",
       "    </tr>\n",
       "    <tr>\n",
       "      <th>4</th>\n",
       "      <td>0.1567</td>\n",
       "      <td>0.0</td>\n",
       "      <td>0.0276</td>\n",
       "      <td>0.1220</td>\n",
       "      <td>0.0330</td>\n",
       "      <td>0.0805</td>\n",
       "      <td>0.2044</td>\n",
       "      <td>0.3444</td>\n",
       "      <td>0.2885</td>\n",
       "      <td>0.3328</td>\n",
       "      <td>...</td>\n",
       "      <td>0.3622</td>\n",
       "      <td>0.3974</td>\n",
       "      <td>0.3932</td>\n",
       "      <td>0.3579</td>\n",
       "      <td>0.3260</td>\n",
       "      <td>0.3444</td>\n",
       "      <td>0.3522</td>\n",
       "      <td>0.3111</td>\n",
       "      <td>0.3011</td>\n",
       "      <td>0.0</td>\n",
       "    </tr>\n",
       "  </tbody>\n",
       "</table>\n",
       "<p>5 rows × 957 columns</p>\n",
       "</div>"
      ],
      "text/plain": [
       "        0    1       2       3       4       5       6       7       8   \n",
       "0  0.0699  0.0  0.0192  0.1102  0.0301  0.0736  0.1848  0.2832  0.2666  \\\n",
       "1  0.0728  0.0  0.0151  0.0931  0.0249  0.0621  0.1573  0.2320  0.2209   \n",
       "2  0.1262  0.0  0.0474  0.1013  0.0291  0.0652  0.1574  0.3216  0.2248   \n",
       "3  0.1193  0.0  0.0355  0.1073  0.0336  0.0766  0.1808  0.2385  0.2530   \n",
       "4  0.1567  0.0  0.0276  0.1220  0.0330  0.0805  0.2044  0.3444  0.2885   \n",
       "\n",
       "        9  ...     947     948     949     950     951     952     953   \n",
       "0  0.3077  ...  0.2842  0.3166  0.3095  0.2761  0.2886  0.3025  0.3088  \\\n",
       "1  0.2534  ...  0.2409  0.2679  0.2621  0.2341  0.2633  0.2773  0.2794   \n",
       "2  0.2597  ...  0.2858  0.3187  0.3225  0.2886  0.2860  0.2872  0.3019   \n",
       "3  0.2943  ...  0.2979  0.3208  0.3095  0.2859  0.2934  0.3032  0.3101   \n",
       "4  0.3328  ...  0.3622  0.3974  0.3932  0.3579  0.3260  0.3444  0.3522   \n",
       "\n",
       "      954     955    y  \n",
       "0  0.2770  0.2699  0.0  \n",
       "1  0.2509  0.2480  0.0  \n",
       "2  0.2868  0.2715  0.0  \n",
       "3  0.2849  0.2770  0.0  \n",
       "4  0.3111  0.3011  0.0  \n",
       "\n",
       "[5 rows x 957 columns]"
      ]
     },
     "execution_count": 3,
     "metadata": {},
     "output_type": "execute_result"
    }
   ],
   "source": [
    "df.head()"
   ]
  },
  {
   "cell_type": "code",
   "execution_count": 4,
   "id": "6e980b38",
   "metadata": {},
   "outputs": [],
   "source": [
    "target = df['y']\n",
    "df.drop('y', axis = 1, inplace=True)"
   ]
  },
  {
   "cell_type": "code",
   "execution_count": 5,
   "id": "b9e6ab7b",
   "metadata": {},
   "outputs": [
    {
     "data": {
      "text/plain": [
       "0        0.0\n",
       "1        0.0\n",
       "2        0.0\n",
       "3        0.0\n",
       "4        0.0\n",
       "        ... \n",
       "28987    7.0\n",
       "28988    7.0\n",
       "28989    7.0\n",
       "28990    7.0\n",
       "28991    7.0\n",
       "Name: y, Length: 28992, dtype: float64"
      ]
     },
     "execution_count": 5,
     "metadata": {},
     "output_type": "execute_result"
    }
   ],
   "source": [
    "target"
   ]
  },
  {
   "cell_type": "code",
   "execution_count": 6,
   "id": "e717c612",
   "metadata": {},
   "outputs": [
    {
     "data": {
      "text/html": [
       "<div>\n",
       "<style scoped>\n",
       "    .dataframe tbody tr th:only-of-type {\n",
       "        vertical-align: middle;\n",
       "    }\n",
       "\n",
       "    .dataframe tbody tr th {\n",
       "        vertical-align: top;\n",
       "    }\n",
       "\n",
       "    .dataframe thead th {\n",
       "        text-align: right;\n",
       "    }\n",
       "</style>\n",
       "<table border=\"1\" class=\"dataframe\">\n",
       "  <thead>\n",
       "    <tr style=\"text-align: right;\">\n",
       "      <th></th>\n",
       "      <th>0</th>\n",
       "      <th>1</th>\n",
       "      <th>2</th>\n",
       "      <th>3</th>\n",
       "      <th>4</th>\n",
       "      <th>5</th>\n",
       "      <th>6</th>\n",
       "      <th>7</th>\n",
       "      <th>8</th>\n",
       "      <th>9</th>\n",
       "      <th>...</th>\n",
       "      <th>946</th>\n",
       "      <th>947</th>\n",
       "      <th>948</th>\n",
       "      <th>949</th>\n",
       "      <th>950</th>\n",
       "      <th>951</th>\n",
       "      <th>952</th>\n",
       "      <th>953</th>\n",
       "      <th>954</th>\n",
       "      <th>955</th>\n",
       "    </tr>\n",
       "  </thead>\n",
       "  <tbody>\n",
       "    <tr>\n",
       "      <th>0</th>\n",
       "      <td>0.0699</td>\n",
       "      <td>0.0</td>\n",
       "      <td>0.0192</td>\n",
       "      <td>0.1102</td>\n",
       "      <td>0.0301</td>\n",
       "      <td>0.0736</td>\n",
       "      <td>0.1848</td>\n",
       "      <td>0.2832</td>\n",
       "      <td>0.2666</td>\n",
       "      <td>0.3077</td>\n",
       "      <td>...</td>\n",
       "      <td>0.2957</td>\n",
       "      <td>0.2842</td>\n",
       "      <td>0.3166</td>\n",
       "      <td>0.3095</td>\n",
       "      <td>0.2761</td>\n",
       "      <td>0.2886</td>\n",
       "      <td>0.3025</td>\n",
       "      <td>0.3088</td>\n",
       "      <td>0.2770</td>\n",
       "      <td>0.2699</td>\n",
       "    </tr>\n",
       "    <tr>\n",
       "      <th>1</th>\n",
       "      <td>0.0728</td>\n",
       "      <td>0.0</td>\n",
       "      <td>0.0151</td>\n",
       "      <td>0.0931</td>\n",
       "      <td>0.0249</td>\n",
       "      <td>0.0621</td>\n",
       "      <td>0.1573</td>\n",
       "      <td>0.2320</td>\n",
       "      <td>0.2209</td>\n",
       "      <td>0.2534</td>\n",
       "      <td>...</td>\n",
       "      <td>0.2504</td>\n",
       "      <td>0.2409</td>\n",
       "      <td>0.2679</td>\n",
       "      <td>0.2621</td>\n",
       "      <td>0.2341</td>\n",
       "      <td>0.2633</td>\n",
       "      <td>0.2773</td>\n",
       "      <td>0.2794</td>\n",
       "      <td>0.2509</td>\n",
       "      <td>0.2480</td>\n",
       "    </tr>\n",
       "    <tr>\n",
       "      <th>2</th>\n",
       "      <td>0.1262</td>\n",
       "      <td>0.0</td>\n",
       "      <td>0.0474</td>\n",
       "      <td>0.1013</td>\n",
       "      <td>0.0291</td>\n",
       "      <td>0.0652</td>\n",
       "      <td>0.1574</td>\n",
       "      <td>0.3216</td>\n",
       "      <td>0.2248</td>\n",
       "      <td>0.2597</td>\n",
       "      <td>...</td>\n",
       "      <td>0.3030</td>\n",
       "      <td>0.2858</td>\n",
       "      <td>0.3187</td>\n",
       "      <td>0.3225</td>\n",
       "      <td>0.2886</td>\n",
       "      <td>0.2860</td>\n",
       "      <td>0.2872</td>\n",
       "      <td>0.3019</td>\n",
       "      <td>0.2868</td>\n",
       "      <td>0.2715</td>\n",
       "    </tr>\n",
       "    <tr>\n",
       "      <th>3</th>\n",
       "      <td>0.1193</td>\n",
       "      <td>0.0</td>\n",
       "      <td>0.0355</td>\n",
       "      <td>0.1073</td>\n",
       "      <td>0.0336</td>\n",
       "      <td>0.0766</td>\n",
       "      <td>0.1808</td>\n",
       "      <td>0.2385</td>\n",
       "      <td>0.2530</td>\n",
       "      <td>0.2943</td>\n",
       "      <td>...</td>\n",
       "      <td>0.3026</td>\n",
       "      <td>0.2979</td>\n",
       "      <td>0.3208</td>\n",
       "      <td>0.3095</td>\n",
       "      <td>0.2859</td>\n",
       "      <td>0.2934</td>\n",
       "      <td>0.3032</td>\n",
       "      <td>0.3101</td>\n",
       "      <td>0.2849</td>\n",
       "      <td>0.2770</td>\n",
       "    </tr>\n",
       "    <tr>\n",
       "      <th>4</th>\n",
       "      <td>0.1567</td>\n",
       "      <td>0.0</td>\n",
       "      <td>0.0276</td>\n",
       "      <td>0.1220</td>\n",
       "      <td>0.0330</td>\n",
       "      <td>0.0805</td>\n",
       "      <td>0.2044</td>\n",
       "      <td>0.3444</td>\n",
       "      <td>0.2885</td>\n",
       "      <td>0.3328</td>\n",
       "      <td>...</td>\n",
       "      <td>0.3770</td>\n",
       "      <td>0.3622</td>\n",
       "      <td>0.3974</td>\n",
       "      <td>0.3932</td>\n",
       "      <td>0.3579</td>\n",
       "      <td>0.3260</td>\n",
       "      <td>0.3444</td>\n",
       "      <td>0.3522</td>\n",
       "      <td>0.3111</td>\n",
       "      <td>0.3011</td>\n",
       "    </tr>\n",
       "  </tbody>\n",
       "</table>\n",
       "<p>5 rows × 956 columns</p>\n",
       "</div>"
      ],
      "text/plain": [
       "        0    1       2       3       4       5       6       7       8   \n",
       "0  0.0699  0.0  0.0192  0.1102  0.0301  0.0736  0.1848  0.2832  0.2666  \\\n",
       "1  0.0728  0.0  0.0151  0.0931  0.0249  0.0621  0.1573  0.2320  0.2209   \n",
       "2  0.1262  0.0  0.0474  0.1013  0.0291  0.0652  0.1574  0.3216  0.2248   \n",
       "3  0.1193  0.0  0.0355  0.1073  0.0336  0.0766  0.1808  0.2385  0.2530   \n",
       "4  0.1567  0.0  0.0276  0.1220  0.0330  0.0805  0.2044  0.3444  0.2885   \n",
       "\n",
       "        9  ...     946     947     948     949     950     951     952   \n",
       "0  0.3077  ...  0.2957  0.2842  0.3166  0.3095  0.2761  0.2886  0.3025  \\\n",
       "1  0.2534  ...  0.2504  0.2409  0.2679  0.2621  0.2341  0.2633  0.2773   \n",
       "2  0.2597  ...  0.3030  0.2858  0.3187  0.3225  0.2886  0.2860  0.2872   \n",
       "3  0.2943  ...  0.3026  0.2979  0.3208  0.3095  0.2859  0.2934  0.3032   \n",
       "4  0.3328  ...  0.3770  0.3622  0.3974  0.3932  0.3579  0.3260  0.3444   \n",
       "\n",
       "      953     954     955  \n",
       "0  0.3088  0.2770  0.2699  \n",
       "1  0.2794  0.2509  0.2480  \n",
       "2  0.3019  0.2868  0.2715  \n",
       "3  0.3101  0.2849  0.2770  \n",
       "4  0.3522  0.3111  0.3011  \n",
       "\n",
       "[5 rows x 956 columns]"
      ]
     },
     "execution_count": 6,
     "metadata": {},
     "output_type": "execute_result"
    }
   ],
   "source": [
    "df.head()"
   ]
  },
  {
   "cell_type": "code",
   "execution_count": 7,
   "id": "b3bdc15a",
   "metadata": {},
   "outputs": [],
   "source": [
    "train_img, test_img, train_lbl, test_lbl = train_test_split(df, target, test_size=1/7.0, random_state=0)"
   ]
  },
  {
   "cell_type": "code",
   "execution_count": 8,
   "id": "de5fe207",
   "metadata": {},
   "outputs": [],
   "source": [
    "scaler = StandardScaler()"
   ]
  },
  {
   "cell_type": "code",
   "execution_count": 9,
   "id": "84431b96",
   "metadata": {},
   "outputs": [
    {
     "data": {
      "text/html": [
       "<style>#sk-container-id-1 {color: black;background-color: white;}#sk-container-id-1 pre{padding: 0;}#sk-container-id-1 div.sk-toggleable {background-color: white;}#sk-container-id-1 label.sk-toggleable__label {cursor: pointer;display: block;width: 100%;margin-bottom: 0;padding: 0.3em;box-sizing: border-box;text-align: center;}#sk-container-id-1 label.sk-toggleable__label-arrow:before {content: \"▸\";float: left;margin-right: 0.25em;color: #696969;}#sk-container-id-1 label.sk-toggleable__label-arrow:hover:before {color: black;}#sk-container-id-1 div.sk-estimator:hover label.sk-toggleable__label-arrow:before {color: black;}#sk-container-id-1 div.sk-toggleable__content {max-height: 0;max-width: 0;overflow: hidden;text-align: left;background-color: #f0f8ff;}#sk-container-id-1 div.sk-toggleable__content pre {margin: 0.2em;color: black;border-radius: 0.25em;background-color: #f0f8ff;}#sk-container-id-1 input.sk-toggleable__control:checked~div.sk-toggleable__content {max-height: 200px;max-width: 100%;overflow: auto;}#sk-container-id-1 input.sk-toggleable__control:checked~label.sk-toggleable__label-arrow:before {content: \"▾\";}#sk-container-id-1 div.sk-estimator input.sk-toggleable__control:checked~label.sk-toggleable__label {background-color: #d4ebff;}#sk-container-id-1 div.sk-label input.sk-toggleable__control:checked~label.sk-toggleable__label {background-color: #d4ebff;}#sk-container-id-1 input.sk-hidden--visually {border: 0;clip: rect(1px 1px 1px 1px);clip: rect(1px, 1px, 1px, 1px);height: 1px;margin: -1px;overflow: hidden;padding: 0;position: absolute;width: 1px;}#sk-container-id-1 div.sk-estimator {font-family: monospace;background-color: #f0f8ff;border: 1px dotted black;border-radius: 0.25em;box-sizing: border-box;margin-bottom: 0.5em;}#sk-container-id-1 div.sk-estimator:hover {background-color: #d4ebff;}#sk-container-id-1 div.sk-parallel-item::after {content: \"\";width: 100%;border-bottom: 1px solid gray;flex-grow: 1;}#sk-container-id-1 div.sk-label:hover label.sk-toggleable__label {background-color: #d4ebff;}#sk-container-id-1 div.sk-serial::before {content: \"\";position: absolute;border-left: 1px solid gray;box-sizing: border-box;top: 0;bottom: 0;left: 50%;z-index: 0;}#sk-container-id-1 div.sk-serial {display: flex;flex-direction: column;align-items: center;background-color: white;padding-right: 0.2em;padding-left: 0.2em;position: relative;}#sk-container-id-1 div.sk-item {position: relative;z-index: 1;}#sk-container-id-1 div.sk-parallel {display: flex;align-items: stretch;justify-content: center;background-color: white;position: relative;}#sk-container-id-1 div.sk-item::before, #sk-container-id-1 div.sk-parallel-item::before {content: \"\";position: absolute;border-left: 1px solid gray;box-sizing: border-box;top: 0;bottom: 0;left: 50%;z-index: -1;}#sk-container-id-1 div.sk-parallel-item {display: flex;flex-direction: column;z-index: 1;position: relative;background-color: white;}#sk-container-id-1 div.sk-parallel-item:first-child::after {align-self: flex-end;width: 50%;}#sk-container-id-1 div.sk-parallel-item:last-child::after {align-self: flex-start;width: 50%;}#sk-container-id-1 div.sk-parallel-item:only-child::after {width: 0;}#sk-container-id-1 div.sk-dashed-wrapped {border: 1px dashed gray;margin: 0 0.4em 0.5em 0.4em;box-sizing: border-box;padding-bottom: 0.4em;background-color: white;}#sk-container-id-1 div.sk-label label {font-family: monospace;font-weight: bold;display: inline-block;line-height: 1.2em;}#sk-container-id-1 div.sk-label-container {text-align: center;}#sk-container-id-1 div.sk-container {/* jupyter's `normalize.less` sets `[hidden] { display: none; }` but bootstrap.min.css set `[hidden] { display: none !important; }` so we also need the `!important` here to be able to override the default hidden behavior on the sphinx rendered scikit-learn.org. See: https://github.com/scikit-learn/scikit-learn/issues/21755 */display: inline-block !important;position: relative;}#sk-container-id-1 div.sk-text-repr-fallback {display: none;}</style><div id=\"sk-container-id-1\" class=\"sk-top-container\"><div class=\"sk-text-repr-fallback\"><pre>StandardScaler()</pre><b>In a Jupyter environment, please rerun this cell to show the HTML representation or trust the notebook. <br />On GitHub, the HTML representation is unable to render, please try loading this page with nbviewer.org.</b></div><div class=\"sk-container\" hidden><div class=\"sk-item\"><div class=\"sk-estimator sk-toggleable\"><input class=\"sk-toggleable__control sk-hidden--visually\" id=\"sk-estimator-id-1\" type=\"checkbox\" checked><label for=\"sk-estimator-id-1\" class=\"sk-toggleable__label sk-toggleable__label-arrow\">StandardScaler</label><div class=\"sk-toggleable__content\"><pre>StandardScaler()</pre></div></div></div></div></div>"
      ],
      "text/plain": [
       "StandardScaler()"
      ]
     },
     "execution_count": 9,
     "metadata": {},
     "output_type": "execute_result"
    }
   ],
   "source": [
    "scaler.fit(train_img)"
   ]
  },
  {
   "cell_type": "code",
   "execution_count": 10,
   "id": "3ace1a78",
   "metadata": {},
   "outputs": [],
   "source": [
    "train_img = scaler.transform(train_img)\n",
    "test_img = scaler.transform(test_img)"
   ]
  },
  {
   "cell_type": "code",
   "execution_count": 11,
   "id": "60e44339",
   "metadata": {},
   "outputs": [
    {
     "data": {
      "text/plain": [
       "array([[-0.26115973,  0.        , -0.79213832, ...,  0.31329506,\n",
       "         0.21672887,  0.26324817],\n",
       "       [-0.07200444,  0.        , -0.37972267, ...,  1.14010965,\n",
       "         1.19529263,  1.11875371],\n",
       "       [-1.51646308,  0.        , -0.59072603, ..., -0.88581451,\n",
       "        -0.85079523, -0.71043532],\n",
       "       ...,\n",
       "       [-1.08226569,  0.        , -1.03191486, ...,  0.68559003,\n",
       "         0.62594644,  0.62292017],\n",
       "       [-0.72545001,  0.        , -0.76336514, ...,  0.02779278,\n",
       "        -0.06794422,  0.02432319],\n",
       "       [ 0.78349339,  0.        ,  0.65611198, ...,  0.66731788,\n",
       "         0.77844989,  0.76421988]])"
      ]
     },
     "execution_count": 11,
     "metadata": {},
     "output_type": "execute_result"
    }
   ],
   "source": [
    "train_img"
   ]
  },
  {
   "cell_type": "markdown",
   "id": "b2d219cb",
   "metadata": {},
   "source": [
    "# Divided"
   ]
  },
  {
   "cell_type": "code",
   "execution_count": 2,
   "id": "24424ec1",
   "metadata": {},
   "outputs": [],
   "source": [
    "train_img = pd.read_csv('csv/MediaPipe/train_nose_955_standard.csv')\n",
    "test_img = pd.read_csv('csv/MediaPipe/test_nose_955_standard.csv')"
   ]
  },
  {
   "cell_type": "markdown",
   "id": "c988efa4",
   "metadata": {},
   "source": [
    "# PCA"
   ]
  },
  {
   "cell_type": "code",
   "execution_count": 17,
   "id": "0d500f3b",
   "metadata": {},
   "outputs": [],
   "source": [
    "from sklearn.decomposition import PCA"
   ]
  },
  {
   "cell_type": "code",
   "execution_count": 18,
   "id": "d2909b99",
   "metadata": {},
   "outputs": [],
   "source": [
    "pca = PCA(1)"
   ]
  },
  {
   "cell_type": "code",
   "execution_count": 19,
   "id": "7da8b24d",
   "metadata": {},
   "outputs": [
    {
     "data": {
      "text/html": [
       "<style>#sk-container-id-3 {color: black;background-color: white;}#sk-container-id-3 pre{padding: 0;}#sk-container-id-3 div.sk-toggleable {background-color: white;}#sk-container-id-3 label.sk-toggleable__label {cursor: pointer;display: block;width: 100%;margin-bottom: 0;padding: 0.3em;box-sizing: border-box;text-align: center;}#sk-container-id-3 label.sk-toggleable__label-arrow:before {content: \"▸\";float: left;margin-right: 0.25em;color: #696969;}#sk-container-id-3 label.sk-toggleable__label-arrow:hover:before {color: black;}#sk-container-id-3 div.sk-estimator:hover label.sk-toggleable__label-arrow:before {color: black;}#sk-container-id-3 div.sk-toggleable__content {max-height: 0;max-width: 0;overflow: hidden;text-align: left;background-color: #f0f8ff;}#sk-container-id-3 div.sk-toggleable__content pre {margin: 0.2em;color: black;border-radius: 0.25em;background-color: #f0f8ff;}#sk-container-id-3 input.sk-toggleable__control:checked~div.sk-toggleable__content {max-height: 200px;max-width: 100%;overflow: auto;}#sk-container-id-3 input.sk-toggleable__control:checked~label.sk-toggleable__label-arrow:before {content: \"▾\";}#sk-container-id-3 div.sk-estimator input.sk-toggleable__control:checked~label.sk-toggleable__label {background-color: #d4ebff;}#sk-container-id-3 div.sk-label input.sk-toggleable__control:checked~label.sk-toggleable__label {background-color: #d4ebff;}#sk-container-id-3 input.sk-hidden--visually {border: 0;clip: rect(1px 1px 1px 1px);clip: rect(1px, 1px, 1px, 1px);height: 1px;margin: -1px;overflow: hidden;padding: 0;position: absolute;width: 1px;}#sk-container-id-3 div.sk-estimator {font-family: monospace;background-color: #f0f8ff;border: 1px dotted black;border-radius: 0.25em;box-sizing: border-box;margin-bottom: 0.5em;}#sk-container-id-3 div.sk-estimator:hover {background-color: #d4ebff;}#sk-container-id-3 div.sk-parallel-item::after {content: \"\";width: 100%;border-bottom: 1px solid gray;flex-grow: 1;}#sk-container-id-3 div.sk-label:hover label.sk-toggleable__label {background-color: #d4ebff;}#sk-container-id-3 div.sk-serial::before {content: \"\";position: absolute;border-left: 1px solid gray;box-sizing: border-box;top: 0;bottom: 0;left: 50%;z-index: 0;}#sk-container-id-3 div.sk-serial {display: flex;flex-direction: column;align-items: center;background-color: white;padding-right: 0.2em;padding-left: 0.2em;position: relative;}#sk-container-id-3 div.sk-item {position: relative;z-index: 1;}#sk-container-id-3 div.sk-parallel {display: flex;align-items: stretch;justify-content: center;background-color: white;position: relative;}#sk-container-id-3 div.sk-item::before, #sk-container-id-3 div.sk-parallel-item::before {content: \"\";position: absolute;border-left: 1px solid gray;box-sizing: border-box;top: 0;bottom: 0;left: 50%;z-index: -1;}#sk-container-id-3 div.sk-parallel-item {display: flex;flex-direction: column;z-index: 1;position: relative;background-color: white;}#sk-container-id-3 div.sk-parallel-item:first-child::after {align-self: flex-end;width: 50%;}#sk-container-id-3 div.sk-parallel-item:last-child::after {align-self: flex-start;width: 50%;}#sk-container-id-3 div.sk-parallel-item:only-child::after {width: 0;}#sk-container-id-3 div.sk-dashed-wrapped {border: 1px dashed gray;margin: 0 0.4em 0.5em 0.4em;box-sizing: border-box;padding-bottom: 0.4em;background-color: white;}#sk-container-id-3 div.sk-label label {font-family: monospace;font-weight: bold;display: inline-block;line-height: 1.2em;}#sk-container-id-3 div.sk-label-container {text-align: center;}#sk-container-id-3 div.sk-container {/* jupyter's `normalize.less` sets `[hidden] { display: none; }` but bootstrap.min.css set `[hidden] { display: none !important; }` so we also need the `!important` here to be able to override the default hidden behavior on the sphinx rendered scikit-learn.org. See: https://github.com/scikit-learn/scikit-learn/issues/21755 */display: inline-block !important;position: relative;}#sk-container-id-3 div.sk-text-repr-fallback {display: none;}</style><div id=\"sk-container-id-3\" class=\"sk-top-container\"><div class=\"sk-text-repr-fallback\"><pre>PCA(n_components=1)</pre><b>In a Jupyter environment, please rerun this cell to show the HTML representation or trust the notebook. <br />On GitHub, the HTML representation is unable to render, please try loading this page with nbviewer.org.</b></div><div class=\"sk-container\" hidden><div class=\"sk-item\"><div class=\"sk-estimator sk-toggleable\"><input class=\"sk-toggleable__control sk-hidden--visually\" id=\"sk-estimator-id-3\" type=\"checkbox\" checked><label for=\"sk-estimator-id-3\" class=\"sk-toggleable__label sk-toggleable__label-arrow\">PCA</label><div class=\"sk-toggleable__content\"><pre>PCA(n_components=1)</pre></div></div></div></div></div>"
      ],
      "text/plain": [
       "PCA(n_components=1)"
      ]
     },
     "execution_count": 19,
     "metadata": {},
     "output_type": "execute_result"
    }
   ],
   "source": [
    "pca.fit(train_img)"
   ]
  },
  {
   "cell_type": "code",
   "execution_count": 20,
   "id": "4d6ec2e4",
   "metadata": {},
   "outputs": [],
   "source": [
    "pcaed = pca.transform(train_img)"
   ]
  },
  {
   "cell_type": "code",
   "execution_count": 21,
   "id": "02ed66a7",
   "metadata": {},
   "outputs": [
    {
     "data": {
      "text/plain": [
       "(1,)"
      ]
     },
     "execution_count": 21,
     "metadata": {},
     "output_type": "execute_result"
    }
   ],
   "source": [
    "pcaed[0].shape"
   ]
  },
  {
   "cell_type": "code",
   "execution_count": 16,
   "id": "b8b11878",
   "metadata": {},
   "outputs": [
    {
     "data": {
      "text/plain": [
       "(24850, 957)"
      ]
     },
     "execution_count": 16,
     "metadata": {},
     "output_type": "execute_result"
    }
   ],
   "source": [
    "train_img.shape"
   ]
  },
  {
   "cell_type": "code",
   "execution_count": 15,
   "id": "3900047a",
   "metadata": {},
   "outputs": [],
   "source": [
    "train_img = pca.transform(train_img)\n",
    "test_img = pca.transform(test_img)"
   ]
  },
  {
   "cell_type": "code",
   "execution_count": 16,
   "id": "3847b944",
   "metadata": {},
   "outputs": [
    {
     "data": {
      "text/plain": [
       "array([ 3.25074787, 11.44396853, -9.09311169, -0.6526539 ,  1.79076144])"
      ]
     },
     "execution_count": 16,
     "metadata": {},
     "output_type": "execute_result"
    }
   ],
   "source": [
    "train_img[0]"
   ]
  },
  {
   "cell_type": "code",
   "execution_count": 17,
   "id": "3c006c44",
   "metadata": {},
   "outputs": [
    {
     "data": {
      "text/plain": [
       "5"
      ]
     },
     "execution_count": 17,
     "metadata": {},
     "output_type": "execute_result"
    }
   ],
   "source": [
    "len(train_img[0])"
   ]
  },
  {
   "cell_type": "code",
   "execution_count": 18,
   "id": "79b73240",
   "metadata": {},
   "outputs": [
    {
     "data": {
      "text/plain": [
       "(24850, 5)"
      ]
     },
     "execution_count": 18,
     "metadata": {},
     "output_type": "execute_result"
    }
   ],
   "source": [
    "train_img.shape"
   ]
  },
  {
   "cell_type": "code",
   "execution_count": 19,
   "id": "534cbcf5",
   "metadata": {},
   "outputs": [
    {
     "data": {
      "text/plain": [
       "(4142, 5)"
      ]
     },
     "execution_count": 19,
     "metadata": {},
     "output_type": "execute_result"
    }
   ],
   "source": [
    "test_img.shape"
   ]
  },
  {
   "cell_type": "code",
   "execution_count": 20,
   "id": "f642c08f",
   "metadata": {},
   "outputs": [
    {
     "data": {
      "text/plain": [
       "69       0.0\n",
       "6155     2.0\n",
       "13767    4.0\n",
       "14811    4.0\n",
       "16286    4.0\n",
       "        ... \n",
       "13123    4.0\n",
       "19648    5.0\n",
       "9845     3.0\n",
       "10799    3.0\n",
       "2732     0.0\n",
       "Name: y, Length: 24850, dtype: float64"
      ]
     },
     "execution_count": 20,
     "metadata": {},
     "output_type": "execute_result"
    }
   ],
   "source": [
    "train_lbl"
   ]
  },
  {
   "cell_type": "code",
   "execution_count": 21,
   "id": "7e30f36b",
   "metadata": {},
   "outputs": [],
   "source": [
    "train_df = pd.DataFrame(train_img, columns = [f\"V{i}\" for i in range(len(train_img[0]))])\n",
    "\n",
    "test_df = pd.DataFrame(test_img, columns = [f\"V{i}\" for i in range(len(train_img[0]))])"
   ]
  },
  {
   "cell_type": "code",
   "execution_count": 22,
   "id": "198138f9",
   "metadata": {},
   "outputs": [],
   "source": [
    "y_train_df = pd.DataFrame(train_lbl, columns = ['y'])\n",
    "\n",
    "y_test_df = pd.DataFrame(test_lbl, columns = ['y'])"
   ]
  },
  {
   "cell_type": "code",
   "execution_count": 23,
   "id": "f98282a5",
   "metadata": {},
   "outputs": [],
   "source": [
    "y_train_df = y_train_df.reset_index().drop('index', axis=1)"
   ]
  },
  {
   "cell_type": "code",
   "execution_count": 24,
   "id": "50245a30",
   "metadata": {},
   "outputs": [],
   "source": [
    "y_test_df = y_test_df.reset_index().drop('index', axis=1)"
   ]
  },
  {
   "cell_type": "code",
   "execution_count": 25,
   "id": "033c9e78",
   "metadata": {},
   "outputs": [
    {
     "data": {
      "text/html": [
       "<div>\n",
       "<style scoped>\n",
       "    .dataframe tbody tr th:only-of-type {\n",
       "        vertical-align: middle;\n",
       "    }\n",
       "\n",
       "    .dataframe tbody tr th {\n",
       "        vertical-align: top;\n",
       "    }\n",
       "\n",
       "    .dataframe thead th {\n",
       "        text-align: right;\n",
       "    }\n",
       "</style>\n",
       "<table border=\"1\" class=\"dataframe\">\n",
       "  <thead>\n",
       "    <tr style=\"text-align: right;\">\n",
       "      <th></th>\n",
       "      <th>y</th>\n",
       "    </tr>\n",
       "  </thead>\n",
       "  <tbody>\n",
       "    <tr>\n",
       "      <th>0</th>\n",
       "      <td>0.0</td>\n",
       "    </tr>\n",
       "    <tr>\n",
       "      <th>1</th>\n",
       "      <td>2.0</td>\n",
       "    </tr>\n",
       "    <tr>\n",
       "      <th>2</th>\n",
       "      <td>4.0</td>\n",
       "    </tr>\n",
       "    <tr>\n",
       "      <th>3</th>\n",
       "      <td>4.0</td>\n",
       "    </tr>\n",
       "    <tr>\n",
       "      <th>4</th>\n",
       "      <td>4.0</td>\n",
       "    </tr>\n",
       "    <tr>\n",
       "      <th>...</th>\n",
       "      <td>...</td>\n",
       "    </tr>\n",
       "    <tr>\n",
       "      <th>24845</th>\n",
       "      <td>4.0</td>\n",
       "    </tr>\n",
       "    <tr>\n",
       "      <th>24846</th>\n",
       "      <td>5.0</td>\n",
       "    </tr>\n",
       "    <tr>\n",
       "      <th>24847</th>\n",
       "      <td>3.0</td>\n",
       "    </tr>\n",
       "    <tr>\n",
       "      <th>24848</th>\n",
       "      <td>3.0</td>\n",
       "    </tr>\n",
       "    <tr>\n",
       "      <th>24849</th>\n",
       "      <td>0.0</td>\n",
       "    </tr>\n",
       "  </tbody>\n",
       "</table>\n",
       "<p>24850 rows × 1 columns</p>\n",
       "</div>"
      ],
      "text/plain": [
       "         y\n",
       "0      0.0\n",
       "1      2.0\n",
       "2      4.0\n",
       "3      4.0\n",
       "4      4.0\n",
       "...    ...\n",
       "24845  4.0\n",
       "24846  5.0\n",
       "24847  3.0\n",
       "24848  3.0\n",
       "24849  0.0\n",
       "\n",
       "[24850 rows x 1 columns]"
      ]
     },
     "execution_count": 25,
     "metadata": {},
     "output_type": "execute_result"
    }
   ],
   "source": [
    "y_train_df"
   ]
  },
  {
   "cell_type": "code",
   "execution_count": 26,
   "id": "ad8c37f5",
   "metadata": {},
   "outputs": [],
   "source": [
    "train_df['y'] = y_train_df\n",
    "test_df['y'] = y_test_df"
   ]
  },
  {
   "cell_type": "code",
   "execution_count": 27,
   "id": "0bb92371",
   "metadata": {},
   "outputs": [
    {
     "data": {
      "text/html": [
       "<div>\n",
       "<style scoped>\n",
       "    .dataframe tbody tr th:only-of-type {\n",
       "        vertical-align: middle;\n",
       "    }\n",
       "\n",
       "    .dataframe tbody tr th {\n",
       "        vertical-align: top;\n",
       "    }\n",
       "\n",
       "    .dataframe thead th {\n",
       "        text-align: right;\n",
       "    }\n",
       "</style>\n",
       "<table border=\"1\" class=\"dataframe\">\n",
       "  <thead>\n",
       "    <tr style=\"text-align: right;\">\n",
       "      <th></th>\n",
       "      <th>V0</th>\n",
       "      <th>V1</th>\n",
       "      <th>V2</th>\n",
       "      <th>V3</th>\n",
       "      <th>V4</th>\n",
       "      <th>y</th>\n",
       "    </tr>\n",
       "  </thead>\n",
       "  <tbody>\n",
       "    <tr>\n",
       "      <th>0</th>\n",
       "      <td>3.250748</td>\n",
       "      <td>11.443969</td>\n",
       "      <td>-9.093112</td>\n",
       "      <td>-0.652654</td>\n",
       "      <td>1.790761</td>\n",
       "      <td>0.0</td>\n",
       "    </tr>\n",
       "    <tr>\n",
       "      <th>1</th>\n",
       "      <td>28.640700</td>\n",
       "      <td>-2.453194</td>\n",
       "      <td>2.957053</td>\n",
       "      <td>-6.330356</td>\n",
       "      <td>2.412961</td>\n",
       "      <td>2.0</td>\n",
       "    </tr>\n",
       "    <tr>\n",
       "      <th>2</th>\n",
       "      <td>-22.391507</td>\n",
       "      <td>5.702938</td>\n",
       "      <td>2.449014</td>\n",
       "      <td>-2.337767</td>\n",
       "      <td>1.534812</td>\n",
       "      <td>4.0</td>\n",
       "    </tr>\n",
       "    <tr>\n",
       "      <th>3</th>\n",
       "      <td>-18.073128</td>\n",
       "      <td>-8.680533</td>\n",
       "      <td>5.779541</td>\n",
       "      <td>-0.602513</td>\n",
       "      <td>6.779829</td>\n",
       "      <td>4.0</td>\n",
       "    </tr>\n",
       "    <tr>\n",
       "      <th>4</th>\n",
       "      <td>-24.104444</td>\n",
       "      <td>7.460157</td>\n",
       "      <td>-8.436581</td>\n",
       "      <td>-4.019202</td>\n",
       "      <td>0.491702</td>\n",
       "      <td>4.0</td>\n",
       "    </tr>\n",
       "    <tr>\n",
       "      <th>...</th>\n",
       "      <td>...</td>\n",
       "      <td>...</td>\n",
       "      <td>...</td>\n",
       "      <td>...</td>\n",
       "      <td>...</td>\n",
       "      <td>...</td>\n",
       "    </tr>\n",
       "    <tr>\n",
       "      <th>24845</th>\n",
       "      <td>-23.105466</td>\n",
       "      <td>-9.461190</td>\n",
       "      <td>-4.731152</td>\n",
       "      <td>-1.381749</td>\n",
       "      <td>0.936340</td>\n",
       "      <td>4.0</td>\n",
       "    </tr>\n",
       "    <tr>\n",
       "      <th>24846</th>\n",
       "      <td>-7.875224</td>\n",
       "      <td>14.754650</td>\n",
       "      <td>-14.141473</td>\n",
       "      <td>-1.102272</td>\n",
       "      <td>-3.240894</td>\n",
       "      <td>5.0</td>\n",
       "    </tr>\n",
       "    <tr>\n",
       "      <th>24847</th>\n",
       "      <td>17.111015</td>\n",
       "      <td>0.000303</td>\n",
       "      <td>-5.477772</td>\n",
       "      <td>-12.507027</td>\n",
       "      <td>-0.996209</td>\n",
       "      <td>3.0</td>\n",
       "    </tr>\n",
       "    <tr>\n",
       "      <th>24848</th>\n",
       "      <td>-1.468126</td>\n",
       "      <td>-2.079187</td>\n",
       "      <td>-12.296649</td>\n",
       "      <td>4.419347</td>\n",
       "      <td>-4.985623</td>\n",
       "      <td>3.0</td>\n",
       "    </tr>\n",
       "    <tr>\n",
       "      <th>24849</th>\n",
       "      <td>19.307853</td>\n",
       "      <td>9.519215</td>\n",
       "      <td>14.679247</td>\n",
       "      <td>-4.130611</td>\n",
       "      <td>1.660843</td>\n",
       "      <td>0.0</td>\n",
       "    </tr>\n",
       "  </tbody>\n",
       "</table>\n",
       "<p>24850 rows × 6 columns</p>\n",
       "</div>"
      ],
      "text/plain": [
       "              V0         V1         V2         V3        V4    y\n",
       "0       3.250748  11.443969  -9.093112  -0.652654  1.790761  0.0\n",
       "1      28.640700  -2.453194   2.957053  -6.330356  2.412961  2.0\n",
       "2     -22.391507   5.702938   2.449014  -2.337767  1.534812  4.0\n",
       "3     -18.073128  -8.680533   5.779541  -0.602513  6.779829  4.0\n",
       "4     -24.104444   7.460157  -8.436581  -4.019202  0.491702  4.0\n",
       "...          ...        ...        ...        ...       ...  ...\n",
       "24845 -23.105466  -9.461190  -4.731152  -1.381749  0.936340  4.0\n",
       "24846  -7.875224  14.754650 -14.141473  -1.102272 -3.240894  5.0\n",
       "24847  17.111015   0.000303  -5.477772 -12.507027 -0.996209  3.0\n",
       "24848  -1.468126  -2.079187 -12.296649   4.419347 -4.985623  3.0\n",
       "24849  19.307853   9.519215  14.679247  -4.130611  1.660843  0.0\n",
       "\n",
       "[24850 rows x 6 columns]"
      ]
     },
     "execution_count": 27,
     "metadata": {},
     "output_type": "execute_result"
    }
   ],
   "source": [
    "train_df"
   ]
  },
  {
   "cell_type": "code",
   "execution_count": 28,
   "id": "369c89f2",
   "metadata": {},
   "outputs": [
    {
     "data": {
      "text/html": [
       "<div>\n",
       "<style scoped>\n",
       "    .dataframe tbody tr th:only-of-type {\n",
       "        vertical-align: middle;\n",
       "    }\n",
       "\n",
       "    .dataframe tbody tr th {\n",
       "        vertical-align: top;\n",
       "    }\n",
       "\n",
       "    .dataframe thead th {\n",
       "        text-align: right;\n",
       "    }\n",
       "</style>\n",
       "<table border=\"1\" class=\"dataframe\">\n",
       "  <thead>\n",
       "    <tr style=\"text-align: right;\">\n",
       "      <th></th>\n",
       "      <th>V0</th>\n",
       "      <th>V1</th>\n",
       "      <th>V2</th>\n",
       "      <th>V3</th>\n",
       "      <th>V4</th>\n",
       "      <th>y</th>\n",
       "    </tr>\n",
       "  </thead>\n",
       "  <tbody>\n",
       "    <tr>\n",
       "      <th>0</th>\n",
       "      <td>-9.053081</td>\n",
       "      <td>-15.759925</td>\n",
       "      <td>-5.515679</td>\n",
       "      <td>-2.270218</td>\n",
       "      <td>5.371624</td>\n",
       "      <td>4.0</td>\n",
       "    </tr>\n",
       "    <tr>\n",
       "      <th>1</th>\n",
       "      <td>-15.353751</td>\n",
       "      <td>0.256025</td>\n",
       "      <td>0.058138</td>\n",
       "      <td>4.109304</td>\n",
       "      <td>-3.821126</td>\n",
       "      <td>6.0</td>\n",
       "    </tr>\n",
       "    <tr>\n",
       "      <th>2</th>\n",
       "      <td>-3.301410</td>\n",
       "      <td>-0.113793</td>\n",
       "      <td>-3.775672</td>\n",
       "      <td>-2.178907</td>\n",
       "      <td>0.327435</td>\n",
       "      <td>7.0</td>\n",
       "    </tr>\n",
       "    <tr>\n",
       "      <th>3</th>\n",
       "      <td>5.714129</td>\n",
       "      <td>0.165906</td>\n",
       "      <td>11.094639</td>\n",
       "      <td>8.467197</td>\n",
       "      <td>3.765495</td>\n",
       "      <td>1.0</td>\n",
       "    </tr>\n",
       "    <tr>\n",
       "      <th>4</th>\n",
       "      <td>-35.920875</td>\n",
       "      <td>-4.319074</td>\n",
       "      <td>3.536347</td>\n",
       "      <td>1.843615</td>\n",
       "      <td>1.710551</td>\n",
       "      <td>5.0</td>\n",
       "    </tr>\n",
       "    <tr>\n",
       "      <th>...</th>\n",
       "      <td>...</td>\n",
       "      <td>...</td>\n",
       "      <td>...</td>\n",
       "      <td>...</td>\n",
       "      <td>...</td>\n",
       "      <td>...</td>\n",
       "    </tr>\n",
       "    <tr>\n",
       "      <th>4137</th>\n",
       "      <td>-0.462197</td>\n",
       "      <td>0.939488</td>\n",
       "      <td>-7.267017</td>\n",
       "      <td>4.627385</td>\n",
       "      <td>-4.737989</td>\n",
       "      <td>6.0</td>\n",
       "    </tr>\n",
       "    <tr>\n",
       "      <th>4138</th>\n",
       "      <td>-6.215011</td>\n",
       "      <td>-3.240570</td>\n",
       "      <td>2.813168</td>\n",
       "      <td>5.360504</td>\n",
       "      <td>-6.326007</td>\n",
       "      <td>7.0</td>\n",
       "    </tr>\n",
       "    <tr>\n",
       "      <th>4139</th>\n",
       "      <td>17.128262</td>\n",
       "      <td>30.601317</td>\n",
       "      <td>7.718001</td>\n",
       "      <td>1.128658</td>\n",
       "      <td>-11.130186</td>\n",
       "      <td>6.0</td>\n",
       "    </tr>\n",
       "    <tr>\n",
       "      <th>4140</th>\n",
       "      <td>6.416849</td>\n",
       "      <td>-14.261911</td>\n",
       "      <td>-2.258486</td>\n",
       "      <td>1.560405</td>\n",
       "      <td>1.114416</td>\n",
       "      <td>7.0</td>\n",
       "    </tr>\n",
       "    <tr>\n",
       "      <th>4141</th>\n",
       "      <td>-7.820541</td>\n",
       "      <td>-5.189539</td>\n",
       "      <td>11.265514</td>\n",
       "      <td>5.904134</td>\n",
       "      <td>3.518696</td>\n",
       "      <td>1.0</td>\n",
       "    </tr>\n",
       "  </tbody>\n",
       "</table>\n",
       "<p>4142 rows × 6 columns</p>\n",
       "</div>"
      ],
      "text/plain": [
       "             V0         V1         V2        V3         V4    y\n",
       "0     -9.053081 -15.759925  -5.515679 -2.270218   5.371624  4.0\n",
       "1    -15.353751   0.256025   0.058138  4.109304  -3.821126  6.0\n",
       "2     -3.301410  -0.113793  -3.775672 -2.178907   0.327435  7.0\n",
       "3      5.714129   0.165906  11.094639  8.467197   3.765495  1.0\n",
       "4    -35.920875  -4.319074   3.536347  1.843615   1.710551  5.0\n",
       "...         ...        ...        ...       ...        ...  ...\n",
       "4137  -0.462197   0.939488  -7.267017  4.627385  -4.737989  6.0\n",
       "4138  -6.215011  -3.240570   2.813168  5.360504  -6.326007  7.0\n",
       "4139  17.128262  30.601317   7.718001  1.128658 -11.130186  6.0\n",
       "4140   6.416849 -14.261911  -2.258486  1.560405   1.114416  7.0\n",
       "4141  -7.820541  -5.189539  11.265514  5.904134   3.518696  1.0\n",
       "\n",
       "[4142 rows x 6 columns]"
      ]
     },
     "execution_count": 28,
     "metadata": {},
     "output_type": "execute_result"
    }
   ],
   "source": [
    "test_df"
   ]
  },
  {
   "cell_type": "code",
   "execution_count": 29,
   "id": "665d576d",
   "metadata": {},
   "outputs": [
    {
     "data": {
      "text/plain": [
       "V0    0\n",
       "V1    0\n",
       "V2    0\n",
       "V3    0\n",
       "V4    0\n",
       "y     0\n",
       "dtype: int64"
      ]
     },
     "execution_count": 29,
     "metadata": {},
     "output_type": "execute_result"
    }
   ],
   "source": [
    "test_df.isna().sum()"
   ]
  },
  {
   "cell_type": "code",
   "execution_count": 30,
   "id": "4d487168",
   "metadata": {},
   "outputs": [],
   "source": [
    "import pickle as pk"
   ]
  },
  {
   "cell_type": "code",
   "execution_count": 31,
   "id": "f53626d6",
   "metadata": {},
   "outputs": [],
   "source": [
    "pk.dump(pca, open(\"pca.pkl\",\"wb\"))"
   ]
  },
  {
   "cell_type": "code",
   "execution_count": 32,
   "id": "b2ee9ae5",
   "metadata": {},
   "outputs": [],
   "source": [
    "pk.dump(scaler, open(\"scaler.pkl\",\"wb\"))"
   ]
  },
  {
   "cell_type": "code",
   "execution_count": 33,
   "id": "e6795da0",
   "metadata": {},
   "outputs": [],
   "source": [
    "train_df.to_csv(f'train_nose.csv', index=False)"
   ]
  },
  {
   "cell_type": "code",
   "execution_count": 34,
   "id": "57f15956",
   "metadata": {},
   "outputs": [],
   "source": [
    "test_df.to_csv(f'test_nose.csv', index=False)"
   ]
  },
  {
   "cell_type": "code",
   "execution_count": null,
   "id": "a4ae2114",
   "metadata": {},
   "outputs": [],
   "source": []
  }
 ],
 "metadata": {
  "kernelspec": {
   "display_name": "cvcourse",
   "language": "python",
   "name": "cvcourse"
  },
  "language_info": {
   "codemirror_mode": {
    "name": "ipython",
    "version": 3
   },
   "file_extension": ".py",
   "mimetype": "text/x-python",
   "name": "python",
   "nbconvert_exporter": "python",
   "pygments_lexer": "ipython3",
   "version": "3.9.16"
  }
 },
 "nbformat": 4,
 "nbformat_minor": 5
}
