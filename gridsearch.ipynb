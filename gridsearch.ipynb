{
 "cells": [
  {
   "cell_type": "code",
   "execution_count": 31,
   "id": "6f3ed1bd",
   "metadata": {},
   "outputs": [],
   "source": [
    "from sklearn.model_selection import train_test_split\n",
    "from sklearn.preprocessing import MinMaxScaler\n",
    "import pandas as pd\n",
    "import numpy as np\n",
    "from sklearn.metrics import confusion_matrix\n",
    "from sklearn.metrics import classification_report\n",
    "from sklearn.model_selection import GridSearchCV\n",
    "import math"
   ]
  },
  {
   "cell_type": "code",
   "execution_count": 7,
   "id": "c1052650",
   "metadata": {},
   "outputs": [],
   "source": [
    "train = pd.read_csv('train.csv')\n",
    "test = pd.read_csv('test.csv')"
   ]
  },
  {
   "cell_type": "code",
   "execution_count": 8,
   "id": "116b55ef",
   "metadata": {},
   "outputs": [
    {
     "data": {
      "text/html": [
       "<div>\n",
       "<style scoped>\n",
       "    .dataframe tbody tr th:only-of-type {\n",
       "        vertical-align: middle;\n",
       "    }\n",
       "\n",
       "    .dataframe tbody tr th {\n",
       "        vertical-align: top;\n",
       "    }\n",
       "\n",
       "    .dataframe thead th {\n",
       "        text-align: right;\n",
       "    }\n",
       "</style>\n",
       "<table border=\"1\" class=\"dataframe\">\n",
       "  <thead>\n",
       "    <tr style=\"text-align: right;\">\n",
       "      <th></th>\n",
       "      <th>V1</th>\n",
       "      <th>V2</th>\n",
       "      <th>V3</th>\n",
       "      <th>V4</th>\n",
       "      <th>V5</th>\n",
       "      <th>V6</th>\n",
       "      <th>V7</th>\n",
       "      <th>V8</th>\n",
       "      <th>V9</th>\n",
       "      <th>V10</th>\n",
       "      <th>V11</th>\n",
       "      <th>V12</th>\n",
       "      <th>y</th>\n",
       "    </tr>\n",
       "  </thead>\n",
       "  <tbody>\n",
       "    <tr>\n",
       "      <th>0</th>\n",
       "      <td>10.32</td>\n",
       "      <td>30.41</td>\n",
       "      <td>10.52</td>\n",
       "      <td>21.10</td>\n",
       "      <td>67.36</td>\n",
       "      <td>30.07</td>\n",
       "      <td>41.05</td>\n",
       "      <td>15.82</td>\n",
       "      <td>14.22</td>\n",
       "      <td>38.28</td>\n",
       "      <td>84.75</td>\n",
       "      <td>82.50</td>\n",
       "      <td>0.0</td>\n",
       "    </tr>\n",
       "    <tr>\n",
       "      <th>1</th>\n",
       "      <td>6.58</td>\n",
       "      <td>27.29</td>\n",
       "      <td>7.28</td>\n",
       "      <td>28.64</td>\n",
       "      <td>57.72</td>\n",
       "      <td>63.01</td>\n",
       "      <td>71.34</td>\n",
       "      <td>22.18</td>\n",
       "      <td>23.25</td>\n",
       "      <td>41.44</td>\n",
       "      <td>76.46</td>\n",
       "      <td>80.81</td>\n",
       "      <td>0.0</td>\n",
       "    </tr>\n",
       "    <tr>\n",
       "      <th>2</th>\n",
       "      <td>10.50</td>\n",
       "      <td>35.00</td>\n",
       "      <td>8.56</td>\n",
       "      <td>31.02</td>\n",
       "      <td>61.85</td>\n",
       "      <td>49.37</td>\n",
       "      <td>65.00</td>\n",
       "      <td>36.38</td>\n",
       "      <td>29.74</td>\n",
       "      <td>51.09</td>\n",
       "      <td>80.34</td>\n",
       "      <td>83.52</td>\n",
       "      <td>0.0</td>\n",
       "    </tr>\n",
       "    <tr>\n",
       "      <th>3</th>\n",
       "      <td>6.20</td>\n",
       "      <td>29.43</td>\n",
       "      <td>5.39</td>\n",
       "      <td>27.29</td>\n",
       "      <td>50.45</td>\n",
       "      <td>44.05</td>\n",
       "      <td>49.24</td>\n",
       "      <td>25.09</td>\n",
       "      <td>25.30</td>\n",
       "      <td>28.02</td>\n",
       "      <td>64.59</td>\n",
       "      <td>60.71</td>\n",
       "      <td>0.0</td>\n",
       "    </tr>\n",
       "    <tr>\n",
       "      <th>4</th>\n",
       "      <td>15.13</td>\n",
       "      <td>34.93</td>\n",
       "      <td>13.54</td>\n",
       "      <td>35.23</td>\n",
       "      <td>61.66</td>\n",
       "      <td>63.32</td>\n",
       "      <td>70.58</td>\n",
       "      <td>28.75</td>\n",
       "      <td>28.70</td>\n",
       "      <td>41.00</td>\n",
       "      <td>93.23</td>\n",
       "      <td>88.44</td>\n",
       "      <td>0.0</td>\n",
       "    </tr>\n",
       "  </tbody>\n",
       "</table>\n",
       "</div>"
      ],
      "text/plain": [
       "      V1     V2     V3     V4     V5     V6     V7     V8     V9    V10   \n",
       "0  10.32  30.41  10.52  21.10  67.36  30.07  41.05  15.82  14.22  38.28  \\\n",
       "1   6.58  27.29   7.28  28.64  57.72  63.01  71.34  22.18  23.25  41.44   \n",
       "2  10.50  35.00   8.56  31.02  61.85  49.37  65.00  36.38  29.74  51.09   \n",
       "3   6.20  29.43   5.39  27.29  50.45  44.05  49.24  25.09  25.30  28.02   \n",
       "4  15.13  34.93  13.54  35.23  61.66  63.32  70.58  28.75  28.70  41.00   \n",
       "\n",
       "     V11    V12    y  \n",
       "0  84.75  82.50  0.0  \n",
       "1  76.46  80.81  0.0  \n",
       "2  80.34  83.52  0.0  \n",
       "3  64.59  60.71  0.0  \n",
       "4  93.23  88.44  0.0  "
      ]
     },
     "execution_count": 8,
     "metadata": {},
     "output_type": "execute_result"
    }
   ],
   "source": [
    "train.head()"
   ]
  },
  {
   "cell_type": "code",
   "execution_count": 9,
   "id": "41e6e742",
   "metadata": {},
   "outputs": [
    {
     "data": {
      "text/plain": [
       "V1     0\n",
       "V2     0\n",
       "V3     0\n",
       "V4     0\n",
       "V5     0\n",
       "V6     0\n",
       "V7     0\n",
       "V8     0\n",
       "V9     0\n",
       "V10    0\n",
       "V11    0\n",
       "V12    0\n",
       "y      0\n",
       "dtype: int64"
      ]
     },
     "execution_count": 9,
     "metadata": {},
     "output_type": "execute_result"
    }
   ],
   "source": [
    "train.isna().sum()"
   ]
  },
  {
   "cell_type": "code",
   "execution_count": 10,
   "id": "a122898f",
   "metadata": {},
   "outputs": [
    {
     "data": {
      "text/plain": [
       "array([[<Axes: title={'center': 'V1'}>, <Axes: title={'center': 'V2'}>,\n",
       "        <Axes: title={'center': 'V3'}>],\n",
       "       [<Axes: title={'center': 'V4'}>, <Axes: title={'center': 'V5'}>,\n",
       "        <Axes: title={'center': 'V6'}>],\n",
       "       [<Axes: title={'center': 'V7'}>, <Axes: title={'center': 'V8'}>,\n",
       "        <Axes: title={'center': 'V9'}>],\n",
       "       [<Axes: title={'center': 'V10'}>, <Axes: title={'center': 'V11'}>,\n",
       "        <Axes: title={'center': 'V12'}>]], dtype=object)"
      ]
     },
     "execution_count": 10,
     "metadata": {},
     "output_type": "execute_result"
    },
    {
     "data": {
      "image/png": "[encoded data removed]",
      "text/plain": [
       "<Figure size 640x480 with 12 Axes>"
      ]
     },
     "metadata": {},
     "output_type": "display_data"
    }
   ],
   "source": [
    "train.groupby('y').mean().hist()"
   ]
  },
  {
   "cell_type": "code",
   "execution_count": 11,
   "id": "c5a73a7e",
   "metadata": {},
   "outputs": [],
   "source": [
    "y_train = train['y'].astype('int')\n",
    "train.drop('y', axis=1, inplace=True)\n",
    "\n",
    "y_test = test['y'].astype('int')\n",
    "test.drop('y', axis=1, inplace=True)"
   ]
  },
  {
   "cell_type": "code",
   "execution_count": 12,
   "id": "f687a8de",
   "metadata": {},
   "outputs": [
    {
     "data": {
      "text/html": [
       "<div>\n",
       "<style scoped>\n",
       "    .dataframe tbody tr th:only-of-type {\n",
       "        vertical-align: middle;\n",
       "    }\n",
       "\n",
       "    .dataframe tbody tr th {\n",
       "        vertical-align: top;\n",
       "    }\n",
       "\n",
       "    .dataframe thead th {\n",
       "        text-align: right;\n",
       "    }\n",
       "</style>\n",
       "<table border=\"1\" class=\"dataframe\">\n",
       "  <thead>\n",
       "    <tr style=\"text-align: right;\">\n",
       "      <th></th>\n",
       "      <th>V1</th>\n",
       "      <th>V2</th>\n",
       "      <th>V3</th>\n",
       "      <th>V4</th>\n",
       "      <th>V5</th>\n",
       "      <th>V6</th>\n",
       "      <th>V7</th>\n",
       "      <th>V8</th>\n",
       "      <th>V9</th>\n",
       "      <th>V10</th>\n",
       "      <th>V11</th>\n",
       "      <th>V12</th>\n",
       "    </tr>\n",
       "  </thead>\n",
       "  <tbody>\n",
       "    <tr>\n",
       "      <th>0</th>\n",
       "      <td>10.32</td>\n",
       "      <td>30.41</td>\n",
       "      <td>10.52</td>\n",
       "      <td>21.10</td>\n",
       "      <td>67.36</td>\n",
       "      <td>30.07</td>\n",
       "      <td>41.05</td>\n",
       "      <td>15.82</td>\n",
       "      <td>14.22</td>\n",
       "      <td>38.28</td>\n",
       "      <td>84.75</td>\n",
       "      <td>82.50</td>\n",
       "    </tr>\n",
       "    <tr>\n",
       "      <th>1</th>\n",
       "      <td>6.58</td>\n",
       "      <td>27.29</td>\n",
       "      <td>7.28</td>\n",
       "      <td>28.64</td>\n",
       "      <td>57.72</td>\n",
       "      <td>63.01</td>\n",
       "      <td>71.34</td>\n",
       "      <td>22.18</td>\n",
       "      <td>23.25</td>\n",
       "      <td>41.44</td>\n",
       "      <td>76.46</td>\n",
       "      <td>80.81</td>\n",
       "    </tr>\n",
       "    <tr>\n",
       "      <th>2</th>\n",
       "      <td>10.50</td>\n",
       "      <td>35.00</td>\n",
       "      <td>8.56</td>\n",
       "      <td>31.02</td>\n",
       "      <td>61.85</td>\n",
       "      <td>49.37</td>\n",
       "      <td>65.00</td>\n",
       "      <td>36.38</td>\n",
       "      <td>29.74</td>\n",
       "      <td>51.09</td>\n",
       "      <td>80.34</td>\n",
       "      <td>83.52</td>\n",
       "    </tr>\n",
       "  </tbody>\n",
       "</table>\n",
       "</div>"
      ],
      "text/plain": [
       "      V1     V2     V3     V4     V5     V6     V7     V8     V9    V10   \n",
       "0  10.32  30.41  10.52  21.10  67.36  30.07  41.05  15.82  14.22  38.28  \\\n",
       "1   6.58  27.29   7.28  28.64  57.72  63.01  71.34  22.18  23.25  41.44   \n",
       "2  10.50  35.00   8.56  31.02  61.85  49.37  65.00  36.38  29.74  51.09   \n",
       "\n",
       "     V11    V12  \n",
       "0  84.75  82.50  \n",
       "1  76.46  80.81  \n",
       "2  80.34  83.52  "
      ]
     },
     "execution_count": 12,
     "metadata": {},
     "output_type": "execute_result"
    }
   ],
   "source": [
    "train.head(3)"
   ]
  },
  {
   "cell_type": "code",
   "execution_count": 14,
   "id": "ec9d894b",
   "metadata": {},
   "outputs": [
    {
     "data": {
      "text/plain": [
       "0        0\n",
       "1        0\n",
       "2        0\n",
       "3        0\n",
       "4        0\n",
       "        ..\n",
       "28704    6\n",
       "28705    6\n",
       "28706    6\n",
       "28707    6\n",
       "28708    6\n",
       "Name: y, Length: 28709, dtype: int32"
      ]
     },
     "execution_count": 14,
     "metadata": {},
     "output_type": "execute_result"
    }
   ],
   "source": [
    "y_train"
   ]
  },
  {
   "cell_type": "code",
   "execution_count": 16,
   "id": "a4a30112",
   "metadata": {},
   "outputs": [
    {
     "name": "stdout",
     "output_type": "stream",
     "text": [
      "Size of train 28709\n",
      "Size of test 7178\n"
     ]
    }
   ],
   "source": [
    "print(\"Size of train\", len(train))\n",
    "print(\"Size of test\", len(test))"
   ]
  },
  {
   "cell_type": "code",
   "execution_count": 28,
   "id": "cd10a4da",
   "metadata": {},
   "outputs": [
    {
     "data": {
      "text/html": [
       "<div>\n",
       "<style scoped>\n",
       "    .dataframe tbody tr th:only-of-type {\n",
       "        vertical-align: middle;\n",
       "    }\n",
       "\n",
       "    .dataframe tbody tr th {\n",
       "        vertical-align: top;\n",
       "    }\n",
       "\n",
       "    .dataframe thead th {\n",
       "        text-align: right;\n",
       "    }\n",
       "</style>\n",
       "<table border=\"1\" class=\"dataframe\">\n",
       "  <thead>\n",
       "    <tr style=\"text-align: right;\">\n",
       "      <th></th>\n",
       "      <th>y</th>\n",
       "      <th>count</th>\n",
       "    </tr>\n",
       "  </thead>\n",
       "  <tbody>\n",
       "    <tr>\n",
       "      <th>4</th>\n",
       "      <td>0</td>\n",
       "      <td>3995</td>\n",
       "    </tr>\n",
       "    <tr>\n",
       "      <th>6</th>\n",
       "      <td>1</td>\n",
       "      <td>436</td>\n",
       "    </tr>\n",
       "    <tr>\n",
       "      <th>3</th>\n",
       "      <td>2</td>\n",
       "      <td>4097</td>\n",
       "    </tr>\n",
       "    <tr>\n",
       "      <th>0</th>\n",
       "      <td>3</td>\n",
       "      <td>7215</td>\n",
       "    </tr>\n",
       "    <tr>\n",
       "      <th>1</th>\n",
       "      <td>4</td>\n",
       "      <td>4965</td>\n",
       "    </tr>\n",
       "    <tr>\n",
       "      <th>2</th>\n",
       "      <td>5</td>\n",
       "      <td>4830</td>\n",
       "    </tr>\n",
       "    <tr>\n",
       "      <th>5</th>\n",
       "      <td>6</td>\n",
       "      <td>3171</td>\n",
       "    </tr>\n",
       "  </tbody>\n",
       "</table>\n",
       "</div>"
      ],
      "text/plain": [
       "   y  count\n",
       "4  0   3995\n",
       "6  1    436\n",
       "3  2   4097\n",
       "0  3   7215\n",
       "1  4   4965\n",
       "2  5   4830\n",
       "5  6   3171"
      ]
     },
     "execution_count": 28,
     "metadata": {},
     "output_type": "execute_result"
    }
   ],
   "source": [
    "y_train.value_counts().reset_index().sort_values(by='y')"
   ]
  },
  {
   "cell_type": "code",
   "execution_count": 29,
   "id": "06f3b748",
   "metadata": {},
   "outputs": [
    {
     "data": {
      "text/html": [
       "<div>\n",
       "<style scoped>\n",
       "    .dataframe tbody tr th:only-of-type {\n",
       "        vertical-align: middle;\n",
       "    }\n",
       "\n",
       "    .dataframe tbody tr th {\n",
       "        vertical-align: top;\n",
       "    }\n",
       "\n",
       "    .dataframe thead th {\n",
       "        text-align: right;\n",
       "    }\n",
       "</style>\n",
       "<table border=\"1\" class=\"dataframe\">\n",
       "  <thead>\n",
       "    <tr style=\"text-align: right;\">\n",
       "      <th></th>\n",
       "      <th>y</th>\n",
       "      <th>count</th>\n",
       "    </tr>\n",
       "  </thead>\n",
       "  <tbody>\n",
       "    <tr>\n",
       "      <th>4</th>\n",
       "      <td>0</td>\n",
       "      <td>958</td>\n",
       "    </tr>\n",
       "    <tr>\n",
       "      <th>6</th>\n",
       "      <td>1</td>\n",
       "      <td>111</td>\n",
       "    </tr>\n",
       "    <tr>\n",
       "      <th>3</th>\n",
       "      <td>2</td>\n",
       "      <td>1024</td>\n",
       "    </tr>\n",
       "    <tr>\n",
       "      <th>0</th>\n",
       "      <td>3</td>\n",
       "      <td>1774</td>\n",
       "    </tr>\n",
       "    <tr>\n",
       "      <th>2</th>\n",
       "      <td>4</td>\n",
       "      <td>1233</td>\n",
       "    </tr>\n",
       "    <tr>\n",
       "      <th>1</th>\n",
       "      <td>5</td>\n",
       "      <td>1247</td>\n",
       "    </tr>\n",
       "    <tr>\n",
       "      <th>5</th>\n",
       "      <td>6</td>\n",
       "      <td>831</td>\n",
       "    </tr>\n",
       "  </tbody>\n",
       "</table>\n",
       "</div>"
      ],
      "text/plain": [
       "   y  count\n",
       "4  0    958\n",
       "6  1    111\n",
       "3  2   1024\n",
       "0  3   1774\n",
       "2  4   1233\n",
       "1  5   1247\n",
       "5  6    831"
      ]
     },
     "execution_count": 29,
     "metadata": {},
     "output_type": "execute_result"
    }
   ],
   "source": [
    "y_test.value_counts().reset_index().sort_values(by='y')"
   ]
  },
  {
   "cell_type": "code",
   "execution_count": 32,
   "id": "8168b9bb",
   "metadata": {},
   "outputs": [],
   "source": [
    "from sklearn.model_selection import cross_val_score\n",
    "from sklearn.model_selection import RepeatedStratifiedKFold\n",
    "from sklearn.ensemble import GradientBoostingClassifier"
   ]
  },
  {
   "cell_type": "code",
   "execution_count": 33,
   "id": "48054055",
   "metadata": {},
   "outputs": [],
   "source": [
    "model = GradientBoostingClassifier()"
   ]
  },
  {
   "cell_type": "code",
   "execution_count": 34,
   "id": "5d1c2542",
   "metadata": {},
   "outputs": [],
   "source": [
    "cv = RepeatedStratifiedKFold(n_splits=10, n_repeats=3, random_state=1)"
   ]
  },
  {
   "cell_type": "code",
   "execution_count": 44,
   "id": "297975f4",
   "metadata": {},
   "outputs": [],
   "source": [
    "param_grid = {\n",
    "    'n_estimators': [10, 50, 100, 500, 1000, 5000],\n",
    "    'subsample': [0.5, 0.7, 1.0],\n",
    "    'max_features': [0.1, 0.2, 0.3, 0.4, 0.5, 0.6, 0.7, 0.8, 0.9, 1.0, 1.1],\n",
    "    'learning_rate': [0.0001, 0.001, 0.01, 0.1, 1.0],\n",
    "    'max_depth': [3, 7, 9],\n",
    "}"
   ]
  },
  {
   "cell_type": "code",
   "execution_count": 45,
   "id": "13e0843f",
   "metadata": {},
   "outputs": [],
   "source": [
    "grid_search = GridSearchCV(estimator=model, param_grid=param_grid, n_jobs=-1, cv=cv, scoring='accuracy')"
   ]
  },
  {
   "cell_type": "code",
   "execution_count": null,
   "id": "3e74ac44",
   "metadata": {},
   "outputs": [],
   "source": [
    "grid_result = grid_search.fit(train, y_train)"
   ]
  },
  {
   "cell_type": "code",
   "execution_count": null,
   "id": "138d661c",
   "metadata": {},
   "outputs": [],
   "source": []
  }
 ],
 "metadata": {
  "kernelspec": {
   "display_name": "cvcourse",
   "language": "python",
   "name": "cvcourse"
  },
  "language_info": {
   "codemirror_mode": {
    "name": "ipython",
    "version": 3
   },
   "file_extension": ".py",
   "mimetype": "text/x-python",
   "name": "python",
   "nbconvert_exporter": "python",
   "pygments_lexer": "ipython3",
   "version": "3.9.16"
  }
 },
 "nbformat": 4,
 "nbformat_minor": 5
}
