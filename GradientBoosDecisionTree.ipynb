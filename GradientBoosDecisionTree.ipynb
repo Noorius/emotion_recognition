{
 "cells": [
  {
   "cell_type": "code",
   "execution_count": 1,
   "id": "6f3ed1bd",
   "metadata": {},
   "outputs": [],
   "source": [
    "from sklearn.model_selection import train_test_split\n",
    "from sklearn.preprocessing import MinMaxScaler, StandardScaler\n",
    "import pandas as pd\n",
    "import numpy as np\n",
    "from sklearn.metrics import confusion_matrix\n",
    "from sklearn.metrics import classification_report\n",
    "from sklearn.model_selection import GridSearchCV\n",
    "import math\n",
    "import pickle as pk"
   ]
  },
  {
   "cell_type": "code",
   "execution_count": 2,
   "id": "c1052650",
   "metadata": {},
   "outputs": [],
   "source": [
    "train = pd.read_csv('csv/MediaPipe/train_nose_184.csv')\n",
    "test = pd.read_csv('csv/MediaPipe/test_nose_184.csv')"
   ]
  },
  {
   "cell_type": "code",
   "execution_count": 3,
   "id": "116b55ef",
   "metadata": {},
   "outputs": [
    {
     "data": {
      "text/html": [
       "<div>\n",
       "<style scoped>\n",
       "    .dataframe tbody tr th:only-of-type {\n",
       "        vertical-align: middle;\n",
       "    }\n",
       "\n",
       "    .dataframe tbody tr th {\n",
       "        vertical-align: top;\n",
       "    }\n",
       "\n",
       "    .dataframe thead th {\n",
       "        text-align: right;\n",
       "    }\n",
       "</style>\n",
       "<table border=\"1\" class=\"dataframe\">\n",
       "  <thead>\n",
       "    <tr style=\"text-align: right;\">\n",
       "      <th></th>\n",
       "      <th>V0</th>\n",
       "      <th>V1</th>\n",
       "      <th>V2</th>\n",
       "      <th>V3</th>\n",
       "      <th>V4</th>\n",
       "      <th>V5</th>\n",
       "      <th>V6</th>\n",
       "      <th>V7</th>\n",
       "      <th>V8</th>\n",
       "      <th>V9</th>\n",
       "      <th>...</th>\n",
       "      <th>V175</th>\n",
       "      <th>V176</th>\n",
       "      <th>V177</th>\n",
       "      <th>V178</th>\n",
       "      <th>V179</th>\n",
       "      <th>V180</th>\n",
       "      <th>V181</th>\n",
       "      <th>V182</th>\n",
       "      <th>V183</th>\n",
       "      <th>y</th>\n",
       "    </tr>\n",
       "  </thead>\n",
       "  <tbody>\n",
       "    <tr>\n",
       "      <th>0</th>\n",
       "      <td>-0.297426</td>\n",
       "      <td>-0.473132</td>\n",
       "      <td>-0.650654</td>\n",
       "      <td>-0.849423</td>\n",
       "      <td>-0.996441</td>\n",
       "      <td>-1.067820</td>\n",
       "      <td>-1.156753</td>\n",
       "      <td>-0.100666</td>\n",
       "      <td>-0.170887</td>\n",
       "      <td>-1.089498</td>\n",
       "      <td>...</td>\n",
       "      <td>0.347779</td>\n",
       "      <td>0.460423</td>\n",
       "      <td>0.564430</td>\n",
       "      <td>0.247298</td>\n",
       "      <td>0.024115</td>\n",
       "      <td>0.050741</td>\n",
       "      <td>0.146586</td>\n",
       "      <td>0.025320</td>\n",
       "      <td>0.118462</td>\n",
       "      <td>0.0</td>\n",
       "    </tr>\n",
       "    <tr>\n",
       "      <th>1</th>\n",
       "      <td>-0.376166</td>\n",
       "      <td>-0.346421</td>\n",
       "      <td>-0.302813</td>\n",
       "      <td>-0.230802</td>\n",
       "      <td>-0.156279</td>\n",
       "      <td>-0.012831</td>\n",
       "      <td>-0.047162</td>\n",
       "      <td>-0.368209</td>\n",
       "      <td>-0.370542</td>\n",
       "      <td>-0.099004</td>\n",
       "      <td>...</td>\n",
       "      <td>0.375510</td>\n",
       "      <td>0.366770</td>\n",
       "      <td>0.380406</td>\n",
       "      <td>0.184203</td>\n",
       "      <td>0.324787</td>\n",
       "      <td>0.366871</td>\n",
       "      <td>0.291419</td>\n",
       "      <td>0.377346</td>\n",
       "      <td>0.446578</td>\n",
       "      <td>0.0</td>\n",
       "    </tr>\n",
       "    <tr>\n",
       "      <th>2</th>\n",
       "      <td>-0.211765</td>\n",
       "      <td>-0.378358</td>\n",
       "      <td>-0.543208</td>\n",
       "      <td>-0.721045</td>\n",
       "      <td>-0.848202</td>\n",
       "      <td>-0.891288</td>\n",
       "      <td>-0.972356</td>\n",
       "      <td>0.018882</td>\n",
       "      <td>-0.076024</td>\n",
       "      <td>-0.927402</td>\n",
       "      <td>...</td>\n",
       "      <td>-0.581318</td>\n",
       "      <td>-0.561493</td>\n",
       "      <td>-0.541889</td>\n",
       "      <td>-0.838319</td>\n",
       "      <td>-0.860101</td>\n",
       "      <td>-0.761671</td>\n",
       "      <td>-0.756214</td>\n",
       "      <td>-0.759488</td>\n",
       "      <td>-0.585651</td>\n",
       "      <td>0.0</td>\n",
       "    </tr>\n",
       "    <tr>\n",
       "      <th>3</th>\n",
       "      <td>-1.666382</td>\n",
       "      <td>-1.610004</td>\n",
       "      <td>-1.549013</td>\n",
       "      <td>-1.474557</td>\n",
       "      <td>-1.404201</td>\n",
       "      <td>-1.306937</td>\n",
       "      <td>-1.306823</td>\n",
       "      <td>-1.708192</td>\n",
       "      <td>-1.693661</td>\n",
       "      <td>-1.350910</td>\n",
       "      <td>...</td>\n",
       "      <td>-1.098112</td>\n",
       "      <td>-1.169724</td>\n",
       "      <td>-1.140300</td>\n",
       "      <td>-0.307483</td>\n",
       "      <td>-0.946832</td>\n",
       "      <td>-0.953239</td>\n",
       "      <td>-0.573587</td>\n",
       "      <td>-0.936231</td>\n",
       "      <td>-0.595380</td>\n",
       "      <td>0.0</td>\n",
       "    </tr>\n",
       "    <tr>\n",
       "      <th>4</th>\n",
       "      <td>0.337538</td>\n",
       "      <td>0.231630</td>\n",
       "      <td>0.233884</td>\n",
       "      <td>0.314808</td>\n",
       "      <td>0.399223</td>\n",
       "      <td>0.492313</td>\n",
       "      <td>0.509209</td>\n",
       "      <td>0.551466</td>\n",
       "      <td>0.482724</td>\n",
       "      <td>0.460351</td>\n",
       "      <td>...</td>\n",
       "      <td>-0.446302</td>\n",
       "      <td>-0.359649</td>\n",
       "      <td>-0.246551</td>\n",
       "      <td>-0.183265</td>\n",
       "      <td>-0.616226</td>\n",
       "      <td>-0.627338</td>\n",
       "      <td>-0.382590</td>\n",
       "      <td>-0.586211</td>\n",
       "      <td>-0.511034</td>\n",
       "      <td>0.0</td>\n",
       "    </tr>\n",
       "  </tbody>\n",
       "</table>\n",
       "<p>5 rows × 185 columns</p>\n",
       "</div>"
      ],
      "text/plain": [
       "         V0        V1        V2        V3        V4        V5        V6  \\\n",
       "0 -0.297426 -0.473132 -0.650654 -0.849423 -0.996441 -1.067820 -1.156753   \n",
       "1 -0.376166 -0.346421 -0.302813 -0.230802 -0.156279 -0.012831 -0.047162   \n",
       "2 -0.211765 -0.378358 -0.543208 -0.721045 -0.848202 -0.891288 -0.972356   \n",
       "3 -1.666382 -1.610004 -1.549013 -1.474557 -1.404201 -1.306937 -1.306823   \n",
       "4  0.337538  0.231630  0.233884  0.314808  0.399223  0.492313  0.509209   \n",
       "\n",
       "         V7        V8        V9  ...      V175      V176      V177      V178  \\\n",
       "0 -0.100666 -0.170887 -1.089498  ...  0.347779  0.460423  0.564430  0.247298   \n",
       "1 -0.368209 -0.370542 -0.099004  ...  0.375510  0.366770  0.380406  0.184203   \n",
       "2  0.018882 -0.076024 -0.927402  ... -0.581318 -0.561493 -0.541889 -0.838319   \n",
       "3 -1.708192 -1.693661 -1.350910  ... -1.098112 -1.169724 -1.140300 -0.307483   \n",
       "4  0.551466  0.482724  0.460351  ... -0.446302 -0.359649 -0.246551 -0.183265   \n",
       "\n",
       "       V179      V180      V181      V182      V183    y  \n",
       "0  0.024115  0.050741  0.146586  0.025320  0.118462  0.0  \n",
       "1  0.324787  0.366871  0.291419  0.377346  0.446578  0.0  \n",
       "2 -0.860101 -0.761671 -0.756214 -0.759488 -0.585651  0.0  \n",
       "3 -0.946832 -0.953239 -0.573587 -0.936231 -0.595380  0.0  \n",
       "4 -0.616226 -0.627338 -0.382590 -0.586211 -0.511034  0.0  \n",
       "\n",
       "[5 rows x 185 columns]"
      ]
     },
     "execution_count": 3,
     "metadata": {},
     "output_type": "execute_result"
    }
   ],
   "source": [
    "train.head()"
   ]
  },
  {
   "cell_type": "code",
   "execution_count": 4,
   "id": "41e6e742",
   "metadata": {},
   "outputs": [
    {
     "data": {
      "text/plain": [
       "V0      0\n",
       "V1      0\n",
       "V2      0\n",
       "V3      0\n",
       "V4      0\n",
       "       ..\n",
       "V180    0\n",
       "V181    0\n",
       "V182    0\n",
       "V183    0\n",
       "y       0\n",
       "Length: 185, dtype: int64"
      ]
     },
     "execution_count": 4,
     "metadata": {},
     "output_type": "execute_result"
    }
   ],
   "source": [
    "train.isna().sum()"
   ]
  },
  {
   "cell_type": "code",
   "execution_count": 5,
   "id": "b39b3d5c",
   "metadata": {},
   "outputs": [
    {
     "data": {
      "text/plain": [
       "5"
      ]
     },
     "execution_count": 5,
     "metadata": {},
     "output_type": "execute_result"
    }
   ],
   "source": [
    "train.y.nunique()"
   ]
  },
  {
   "cell_type": "code",
   "execution_count": 6,
   "id": "a122898f",
   "metadata": {},
   "outputs": [],
   "source": [
    "#train.groupby('y').mean().hist()"
   ]
  },
  {
   "cell_type": "code",
   "execution_count": 7,
   "id": "c5a73a7e",
   "metadata": {},
   "outputs": [],
   "source": [
    "y_train = train['y'].astype('int')\n",
    "train.drop('y', axis=1, inplace=True)\n",
    "\n",
    "y_test = test['y'].astype('int')\n",
    "test.drop('y', axis=1, inplace=True)"
   ]
  },
  {
   "cell_type": "code",
   "execution_count": 8,
   "id": "f687a8de",
   "metadata": {},
   "outputs": [
    {
     "data": {
      "text/html": [
       "<div>\n",
       "<style scoped>\n",
       "    .dataframe tbody tr th:only-of-type {\n",
       "        vertical-align: middle;\n",
       "    }\n",
       "\n",
       "    .dataframe tbody tr th {\n",
       "        vertical-align: top;\n",
       "    }\n",
       "\n",
       "    .dataframe thead th {\n",
       "        text-align: right;\n",
       "    }\n",
       "</style>\n",
       "<table border=\"1\" class=\"dataframe\">\n",
       "  <thead>\n",
       "    <tr style=\"text-align: right;\">\n",
       "      <th></th>\n",
       "      <th>V0</th>\n",
       "      <th>V1</th>\n",
       "      <th>V2</th>\n",
       "      <th>V3</th>\n",
       "      <th>V4</th>\n",
       "      <th>V5</th>\n",
       "      <th>V6</th>\n",
       "      <th>V7</th>\n",
       "      <th>V8</th>\n",
       "      <th>V9</th>\n",
       "      <th>...</th>\n",
       "      <th>V174</th>\n",
       "      <th>V175</th>\n",
       "      <th>V176</th>\n",
       "      <th>V177</th>\n",
       "      <th>V178</th>\n",
       "      <th>V179</th>\n",
       "      <th>V180</th>\n",
       "      <th>V181</th>\n",
       "      <th>V182</th>\n",
       "      <th>V183</th>\n",
       "    </tr>\n",
       "  </thead>\n",
       "  <tbody>\n",
       "    <tr>\n",
       "      <th>0</th>\n",
       "      <td>-0.297426</td>\n",
       "      <td>-0.473132</td>\n",
       "      <td>-0.650654</td>\n",
       "      <td>-0.849423</td>\n",
       "      <td>-0.996441</td>\n",
       "      <td>-1.067820</td>\n",
       "      <td>-1.156753</td>\n",
       "      <td>-0.100666</td>\n",
       "      <td>-0.170887</td>\n",
       "      <td>-1.089498</td>\n",
       "      <td>...</td>\n",
       "      <td>0.052607</td>\n",
       "      <td>0.347779</td>\n",
       "      <td>0.460423</td>\n",
       "      <td>0.564430</td>\n",
       "      <td>0.247298</td>\n",
       "      <td>0.024115</td>\n",
       "      <td>0.050741</td>\n",
       "      <td>0.146586</td>\n",
       "      <td>0.025320</td>\n",
       "      <td>0.118462</td>\n",
       "    </tr>\n",
       "    <tr>\n",
       "      <th>1</th>\n",
       "      <td>-0.376166</td>\n",
       "      <td>-0.346421</td>\n",
       "      <td>-0.302813</td>\n",
       "      <td>-0.230802</td>\n",
       "      <td>-0.156279</td>\n",
       "      <td>-0.012831</td>\n",
       "      <td>-0.047162</td>\n",
       "      <td>-0.368209</td>\n",
       "      <td>-0.370542</td>\n",
       "      <td>-0.099004</td>\n",
       "      <td>...</td>\n",
       "      <td>0.372150</td>\n",
       "      <td>0.375510</td>\n",
       "      <td>0.366770</td>\n",
       "      <td>0.380406</td>\n",
       "      <td>0.184203</td>\n",
       "      <td>0.324787</td>\n",
       "      <td>0.366871</td>\n",
       "      <td>0.291419</td>\n",
       "      <td>0.377346</td>\n",
       "      <td>0.446578</td>\n",
       "    </tr>\n",
       "    <tr>\n",
       "      <th>2</th>\n",
       "      <td>-0.211765</td>\n",
       "      <td>-0.378358</td>\n",
       "      <td>-0.543208</td>\n",
       "      <td>-0.721045</td>\n",
       "      <td>-0.848202</td>\n",
       "      <td>-0.891288</td>\n",
       "      <td>-0.972356</td>\n",
       "      <td>0.018882</td>\n",
       "      <td>-0.076024</td>\n",
       "      <td>-0.927402</td>\n",
       "      <td>...</td>\n",
       "      <td>-0.735086</td>\n",
       "      <td>-0.581318</td>\n",
       "      <td>-0.561493</td>\n",
       "      <td>-0.541889</td>\n",
       "      <td>-0.838319</td>\n",
       "      <td>-0.860101</td>\n",
       "      <td>-0.761671</td>\n",
       "      <td>-0.756214</td>\n",
       "      <td>-0.759488</td>\n",
       "      <td>-0.585651</td>\n",
       "    </tr>\n",
       "  </tbody>\n",
       "</table>\n",
       "<p>3 rows × 184 columns</p>\n",
       "</div>"
      ],
      "text/plain": [
       "         V0        V1        V2        V3        V4        V5        V6  \\\n",
       "0 -0.297426 -0.473132 -0.650654 -0.849423 -0.996441 -1.067820 -1.156753   \n",
       "1 -0.376166 -0.346421 -0.302813 -0.230802 -0.156279 -0.012831 -0.047162   \n",
       "2 -0.211765 -0.378358 -0.543208 -0.721045 -0.848202 -0.891288 -0.972356   \n",
       "\n",
       "         V7        V8        V9  ...      V174      V175      V176      V177  \\\n",
       "0 -0.100666 -0.170887 -1.089498  ...  0.052607  0.347779  0.460423  0.564430   \n",
       "1 -0.368209 -0.370542 -0.099004  ...  0.372150  0.375510  0.366770  0.380406   \n",
       "2  0.018882 -0.076024 -0.927402  ... -0.735086 -0.581318 -0.561493 -0.541889   \n",
       "\n",
       "       V178      V179      V180      V181      V182      V183  \n",
       "0  0.247298  0.024115  0.050741  0.146586  0.025320  0.118462  \n",
       "1  0.184203  0.324787  0.366871  0.291419  0.377346  0.446578  \n",
       "2 -0.838319 -0.860101 -0.761671 -0.756214 -0.759488 -0.585651  \n",
       "\n",
       "[3 rows x 184 columns]"
      ]
     },
     "execution_count": 8,
     "metadata": {},
     "output_type": "execute_result"
    }
   ],
   "source": [
    "train.head(3)"
   ]
  },
  {
   "cell_type": "code",
   "execution_count": 9,
   "id": "ec9d894b",
   "metadata": {},
   "outputs": [
    {
     "data": {
      "text/plain": [
       "0        0\n",
       "1        0\n",
       "2        0\n",
       "3        0\n",
       "4        0\n",
       "        ..\n",
       "19298    4\n",
       "19299    4\n",
       "19300    4\n",
       "19301    4\n",
       "19302    4\n",
       "Name: y, Length: 19303, dtype: int32"
      ]
     },
     "execution_count": 9,
     "metadata": {},
     "output_type": "execute_result"
    }
   ],
   "source": [
    "y_train"
   ]
  },
  {
   "cell_type": "code",
   "execution_count": 10,
   "id": "a4a30112",
   "metadata": {},
   "outputs": [
    {
     "name": "stdout",
     "output_type": "stream",
     "text": [
      "Size of train 19303\n",
      "Size of test 4828\n"
     ]
    }
   ],
   "source": [
    "print(\"Size of train\", len(train))\n",
    "print(\"Size of test\", len(test))"
   ]
  },
  {
   "cell_type": "code",
   "execution_count": 11,
   "id": "cd10a4da",
   "metadata": {},
   "outputs": [
    {
     "data": {
      "text/html": [
       "<div>\n",
       "<style scoped>\n",
       "    .dataframe tbody tr th:only-of-type {\n",
       "        vertical-align: middle;\n",
       "    }\n",
       "\n",
       "    .dataframe tbody tr th {\n",
       "        vertical-align: top;\n",
       "    }\n",
       "\n",
       "    .dataframe thead th {\n",
       "        text-align: right;\n",
       "    }\n",
       "</style>\n",
       "<table border=\"1\" class=\"dataframe\">\n",
       "  <thead>\n",
       "    <tr style=\"text-align: right;\">\n",
       "      <th></th>\n",
       "      <th>index</th>\n",
       "      <th>y</th>\n",
       "    </tr>\n",
       "  </thead>\n",
       "  <tbody>\n",
       "    <tr>\n",
       "      <th>4</th>\n",
       "      <td>4</td>\n",
       "      <td>2474</td>\n",
       "    </tr>\n",
       "    <tr>\n",
       "      <th>3</th>\n",
       "      <td>0</td>\n",
       "      <td>2902</td>\n",
       "    </tr>\n",
       "    <tr>\n",
       "      <th>2</th>\n",
       "      <td>3</td>\n",
       "      <td>3439</td>\n",
       "    </tr>\n",
       "    <tr>\n",
       "      <th>1</th>\n",
       "      <td>2</td>\n",
       "      <td>4298</td>\n",
       "    </tr>\n",
       "    <tr>\n",
       "      <th>0</th>\n",
       "      <td>1</td>\n",
       "      <td>6190</td>\n",
       "    </tr>\n",
       "  </tbody>\n",
       "</table>\n",
       "</div>"
      ],
      "text/plain": [
       "   index     y\n",
       "4      4  2474\n",
       "3      0  2902\n",
       "2      3  3439\n",
       "1      2  4298\n",
       "0      1  6190"
      ]
     },
     "execution_count": 11,
     "metadata": {},
     "output_type": "execute_result"
    }
   ],
   "source": [
    "y_train.value_counts().reset_index().sort_values(by='y')"
   ]
  },
  {
   "cell_type": "code",
   "execution_count": 12,
   "id": "06f3b748",
   "metadata": {},
   "outputs": [
    {
     "data": {
      "text/html": [
       "<div>\n",
       "<style scoped>\n",
       "    .dataframe tbody tr th:only-of-type {\n",
       "        vertical-align: middle;\n",
       "    }\n",
       "\n",
       "    .dataframe tbody tr th {\n",
       "        vertical-align: top;\n",
       "    }\n",
       "\n",
       "    .dataframe thead th {\n",
       "        text-align: right;\n",
       "    }\n",
       "</style>\n",
       "<table border=\"1\" class=\"dataframe\">\n",
       "  <thead>\n",
       "    <tr style=\"text-align: right;\">\n",
       "      <th></th>\n",
       "      <th>index</th>\n",
       "      <th>y</th>\n",
       "    </tr>\n",
       "  </thead>\n",
       "  <tbody>\n",
       "    <tr>\n",
       "      <th>4</th>\n",
       "      <td>4</td>\n",
       "      <td>644</td>\n",
       "    </tr>\n",
       "    <tr>\n",
       "      <th>3</th>\n",
       "      <td>0</td>\n",
       "      <td>693</td>\n",
       "    </tr>\n",
       "    <tr>\n",
       "      <th>2</th>\n",
       "      <td>3</td>\n",
       "      <td>864</td>\n",
       "    </tr>\n",
       "    <tr>\n",
       "      <th>1</th>\n",
       "      <td>2</td>\n",
       "      <td>1092</td>\n",
       "    </tr>\n",
       "    <tr>\n",
       "      <th>0</th>\n",
       "      <td>1</td>\n",
       "      <td>1535</td>\n",
       "    </tr>\n",
       "  </tbody>\n",
       "</table>\n",
       "</div>"
      ],
      "text/plain": [
       "   index     y\n",
       "4      4   644\n",
       "3      0   693\n",
       "2      3   864\n",
       "1      2  1092\n",
       "0      1  1535"
      ]
     },
     "execution_count": 12,
     "metadata": {},
     "output_type": "execute_result"
    }
   ],
   "source": [
    "y_test.value_counts().reset_index().sort_values(by='y')"
   ]
  },
  {
   "cell_type": "code",
   "execution_count": 13,
   "id": "28f19fc2",
   "metadata": {},
   "outputs": [],
   "source": [
    "#scaler = StandardScaler().fit(train)"
   ]
  },
  {
   "cell_type": "code",
   "execution_count": 14,
   "id": "b4127f68",
   "metadata": {},
   "outputs": [],
   "source": [
    "#X_train = scaler.transform(train)\n",
    "#X_test = scaler.transform(test)"
   ]
  },
  {
   "cell_type": "code",
   "execution_count": 15,
   "id": "883515f4",
   "metadata": {},
   "outputs": [],
   "source": [
    "#X_train"
   ]
  },
  {
   "cell_type": "code",
   "execution_count": 16,
   "id": "1fc5d927",
   "metadata": {},
   "outputs": [],
   "source": [
    "#X_test"
   ]
  },
  {
   "cell_type": "code",
   "execution_count": 17,
   "id": "0c004688",
   "metadata": {},
   "outputs": [],
   "source": [
    "#std = np.sqrt(scaler.var_)"
   ]
  },
  {
   "cell_type": "code",
   "execution_count": 18,
   "id": "d3c05e93",
   "metadata": {},
   "outputs": [],
   "source": [
    "#np.save('std.npy', std)"
   ]
  },
  {
   "cell_type": "code",
   "execution_count": 19,
   "id": "9706f596",
   "metadata": {},
   "outputs": [],
   "source": [
    "#np.save('mean.npy', scaler.mean_)"
   ]
  },
  {
   "cell_type": "code",
   "execution_count": 20,
   "id": "8168b9bb",
   "metadata": {},
   "outputs": [],
   "source": [
    "from sklearn.model_selection import cross_val_score\n",
    "from sklearn.model_selection import RepeatedStratifiedKFold\n",
    "from sklearn.ensemble import GradientBoostingClassifier"
   ]
  },
  {
   "cell_type": "code",
   "execution_count": 21,
   "id": "48054055",
   "metadata": {},
   "outputs": [],
   "source": [
    "#model = GradientBoostingClassifier()"
   ]
  },
  {
   "cell_type": "code",
   "execution_count": 22,
   "id": "5d1c2542",
   "metadata": {},
   "outputs": [],
   "source": [
    "#cv = RepeatedStratifiedKFold(n_splits=10, n_repeats=3, random_state=1)"
   ]
  },
  {
   "cell_type": "code",
   "execution_count": 28,
   "id": "297975f4",
   "metadata": {},
   "outputs": [],
   "source": [
    "param_grid = {\n",
    "    'n_estimators': [3], #10, 50, 100, 500\n",
    "    'subsample': [0.5, 0.7, 1.0],\n",
    "    'learning_rate': [0.0001, 0.001, 0.01, 0.1, 1.0],\n",
    "    'max_depth': [3, 7, 9],\n",
    "    'max_features': [0.1, 0.2, 0.3, 0.4, 0.5, 0.6, 0.7, 0.8, 0.9, 1.0, 1.1]\n",
    "}\n",
    "\n",
    "#"
   ]
  },
  {
   "cell_type": "code",
   "execution_count": 29,
   "id": "13e0843f",
   "metadata": {},
   "outputs": [],
   "source": [
    "#grid_search = GridSearchCV(estimator=model, param_grid=param_grid, n_jobs=-1, cv=cv, scoring='accuracy')"
   ]
  },
  {
   "cell_type": "code",
   "execution_count": 50,
   "id": "3e74ac44",
   "metadata": {},
   "outputs": [],
   "source": [
    "#grid_result = grid_search.fit(train, y_train)"
   ]
  },
  {
   "cell_type": "code",
   "execution_count": 51,
   "id": "138d661c",
   "metadata": {},
   "outputs": [],
   "source": [
    "#print(\"Best: %f using %s\" % (grid_result.best_score_, grid_result.best_params_))"
   ]
  },
  {
   "cell_type": "code",
   "execution_count": 52,
   "id": "575b882e-4629-4ef1-b922-bd99107e9ca4",
   "metadata": {},
   "outputs": [],
   "source": [
    "# summarize all scores that were evaluated\n",
    "# means = grid_result.cv_results_['mean_test_score']\n",
    "# stds = grid_result.cv_results_['std_test_score']\n",
    "# params = grid_result.cv_results_['params']\n",
    "# for mean, stdev, param in zip(means, stds, params):\n",
    "#     print(\"%f (%f) with: %r\" % (mean, stdev, param))"
   ]
  },
  {
   "cell_type": "code",
   "execution_count": null,
   "id": "28905244",
   "metadata": {},
   "outputs": [],
   "source": []
  },
  {
   "cell_type": "code",
   "execution_count": null,
   "id": "8143e92a",
   "metadata": {},
   "outputs": [],
   "source": []
  },
  {
   "cell_type": "code",
   "execution_count": 23,
   "id": "1cb3f10f",
   "metadata": {},
   "outputs": [],
   "source": [
    "model = GradientBoostingClassifier(n_estimators=500, \n",
    "                                   subsample=0.6, \n",
    "                                   learning_rate=0.01, \n",
    "                                   max_depth=10, \n",
    "                                   max_features='sqrt', \n",
    "                                   loss='deviance',\n",
    "                                   min_samples_split=4,\n",
    "                                   min_samples_leaf=2,\n",
    "                                  )"
   ]
  },
  {
   "cell_type": "code",
   "execution_count": 24,
   "id": "01ea4e45",
   "metadata": {},
   "outputs": [
    {
     "name": "stderr",
     "output_type": "stream",
     "text": [
      "C:\\Users\\Nur\\AppData\\Roaming\\Python\\Python39\\site-packages\\sklearn\\ensemble\\_gb.py:310: FutureWarning: The loss parameter name 'deviance' was deprecated in v1.1 and will be removed in version 1.3. Use the new parameter name 'log_loss' which is equivalent.\n",
      "  warnings.warn(\n"
     ]
    },
    {
     "name": "stdout",
     "output_type": "stream",
     "text": [
      "CPU times: total: 6min 38s\n",
      "Wall time: 6min 39s\n"
     ]
    },
    {
     "data": {
      "text/html": [
       "<style>#sk-container-id-1 {color: black;background-color: white;}#sk-container-id-1 pre{padding: 0;}#sk-container-id-1 div.sk-toggleable {background-color: white;}#sk-container-id-1 label.sk-toggleable__label {cursor: pointer;display: block;width: 100%;margin-bottom: 0;padding: 0.3em;box-sizing: border-box;text-align: center;}#sk-container-id-1 label.sk-toggleable__label-arrow:before {content: \"▸\";float: left;margin-right: 0.25em;color: #696969;}#sk-container-id-1 label.sk-toggleable__label-arrow:hover:before {color: black;}#sk-container-id-1 div.sk-estimator:hover label.sk-toggleable__label-arrow:before {color: black;}#sk-container-id-1 div.sk-toggleable__content {max-height: 0;max-width: 0;overflow: hidden;text-align: left;background-color: #f0f8ff;}#sk-container-id-1 div.sk-toggleable__content pre {margin: 0.2em;color: black;border-radius: 0.25em;background-color: #f0f8ff;}#sk-container-id-1 input.sk-toggleable__control:checked~div.sk-toggleable__content {max-height: 200px;max-width: 100%;overflow: auto;}#sk-container-id-1 input.sk-toggleable__control:checked~label.sk-toggleable__label-arrow:before {content: \"▾\";}#sk-container-id-1 div.sk-estimator input.sk-toggleable__control:checked~label.sk-toggleable__label {background-color: #d4ebff;}#sk-container-id-1 div.sk-label input.sk-toggleable__control:checked~label.sk-toggleable__label {background-color: #d4ebff;}#sk-container-id-1 input.sk-hidden--visually {border: 0;clip: rect(1px 1px 1px 1px);clip: rect(1px, 1px, 1px, 1px);height: 1px;margin: -1px;overflow: hidden;padding: 0;position: absolute;width: 1px;}#sk-container-id-1 div.sk-estimator {font-family: monospace;background-color: #f0f8ff;border: 1px dotted black;border-radius: 0.25em;box-sizing: border-box;margin-bottom: 0.5em;}#sk-container-id-1 div.sk-estimator:hover {background-color: #d4ebff;}#sk-container-id-1 div.sk-parallel-item::after {content: \"\";width: 100%;border-bottom: 1px solid gray;flex-grow: 1;}#sk-container-id-1 div.sk-label:hover label.sk-toggleable__label {background-color: #d4ebff;}#sk-container-id-1 div.sk-serial::before {content: \"\";position: absolute;border-left: 1px solid gray;box-sizing: border-box;top: 0;bottom: 0;left: 50%;z-index: 0;}#sk-container-id-1 div.sk-serial {display: flex;flex-direction: column;align-items: center;background-color: white;padding-right: 0.2em;padding-left: 0.2em;position: relative;}#sk-container-id-1 div.sk-item {position: relative;z-index: 1;}#sk-container-id-1 div.sk-parallel {display: flex;align-items: stretch;justify-content: center;background-color: white;position: relative;}#sk-container-id-1 div.sk-item::before, #sk-container-id-1 div.sk-parallel-item::before {content: \"\";position: absolute;border-left: 1px solid gray;box-sizing: border-box;top: 0;bottom: 0;left: 50%;z-index: -1;}#sk-container-id-1 div.sk-parallel-item {display: flex;flex-direction: column;z-index: 1;position: relative;background-color: white;}#sk-container-id-1 div.sk-parallel-item:first-child::after {align-self: flex-end;width: 50%;}#sk-container-id-1 div.sk-parallel-item:last-child::after {align-self: flex-start;width: 50%;}#sk-container-id-1 div.sk-parallel-item:only-child::after {width: 0;}#sk-container-id-1 div.sk-dashed-wrapped {border: 1px dashed gray;margin: 0 0.4em 0.5em 0.4em;box-sizing: border-box;padding-bottom: 0.4em;background-color: white;}#sk-container-id-1 div.sk-label label {font-family: monospace;font-weight: bold;display: inline-block;line-height: 1.2em;}#sk-container-id-1 div.sk-label-container {text-align: center;}#sk-container-id-1 div.sk-container {/* jupyter's `normalize.less` sets `[hidden] { display: none; }` but bootstrap.min.css set `[hidden] { display: none !important; }` so we also need the `!important` here to be able to override the default hidden behavior on the sphinx rendered scikit-learn.org. See: https://github.com/scikit-learn/scikit-learn/issues/21755 */display: inline-block !important;position: relative;}#sk-container-id-1 div.sk-text-repr-fallback {display: none;}</style><div id=\"sk-container-id-1\" class=\"sk-top-container\"><div class=\"sk-text-repr-fallback\"><pre>GradientBoostingClassifier(learning_rate=0.01, loss=&#x27;deviance&#x27;, max_depth=10,\n",
       "                           max_features=&#x27;sqrt&#x27;, min_samples_leaf=2,\n",
       "                           min_samples_split=4, n_estimators=500,\n",
       "                           subsample=0.6)</pre><b>In a Jupyter environment, please rerun this cell to show the HTML representation or trust the notebook. <br />On GitHub, the HTML representation is unable to render, please try loading this page with nbviewer.org.</b></div><div class=\"sk-container\" hidden><div class=\"sk-item\"><div class=\"sk-estimator sk-toggleable\"><input class=\"sk-toggleable__control sk-hidden--visually\" id=\"sk-estimator-id-1\" type=\"checkbox\" checked><label for=\"sk-estimator-id-1\" class=\"sk-toggleable__label sk-toggleable__label-arrow\">GradientBoostingClassifier</label><div class=\"sk-toggleable__content\"><pre>GradientBoostingClassifier(learning_rate=0.01, loss=&#x27;deviance&#x27;, max_depth=10,\n",
       "                           max_features=&#x27;sqrt&#x27;, min_samples_leaf=2,\n",
       "                           min_samples_split=4, n_estimators=500,\n",
       "                           subsample=0.6)</pre></div></div></div></div></div>"
      ],
      "text/plain": [
       "GradientBoostingClassifier(learning_rate=0.01, loss='deviance', max_depth=10,\n",
       "                           max_features='sqrt', min_samples_leaf=2,\n",
       "                           min_samples_split=4, n_estimators=500,\n",
       "                           subsample=0.6)"
      ]
     },
     "execution_count": 24,
     "metadata": {},
     "output_type": "execute_result"
    }
   ],
   "source": [
    "%%time\n",
    "model.fit(train, y_train)"
   ]
  },
  {
   "cell_type": "code",
   "execution_count": 25,
   "id": "5ba653c4",
   "metadata": {},
   "outputs": [],
   "source": [
    "def evaluate_model(model, X, y):\n",
    "    # define the evaluation procedure\n",
    "    cv = RepeatedStratifiedKFold(n_splits=10, n_repeats=3, random_state=1)\n",
    "    # evaluate the model and collect the results\n",
    "    scores = cross_val_score(model, X, y, scoring='accuracy', cv=cv, n_jobs=-1)\n",
    "    return scores"
   ]
  },
  {
   "cell_type": "code",
   "execution_count": 26,
   "id": "7fdaa737",
   "metadata": {},
   "outputs": [],
   "source": [
    "#scores = evaluate_model(model, test, y_test)"
   ]
  },
  {
   "cell_type": "code",
   "execution_count": 27,
   "id": "0a63f840",
   "metadata": {},
   "outputs": [],
   "source": [
    "y_pred = model.predict(test)"
   ]
  },
  {
   "cell_type": "code",
   "execution_count": 28,
   "id": "fa6a2b08",
   "metadata": {},
   "outputs": [
    {
     "name": "stdout",
     "output_type": "stream",
     "text": [
      "[[ 201   23   59   62   27]\n",
      " [ 148 1222  154  151   58]\n",
      " [ 205  165  686  325   76]\n",
      " [  95   76  168  300   33]\n",
      " [  44   49   25   26  450]]\n"
     ]
    }
   ],
   "source": [
    "print(confusion_matrix(y_pred, y_test))"
   ]
  },
  {
   "cell_type": "code",
   "execution_count": 29,
   "id": "d19bc162",
   "metadata": {},
   "outputs": [
    {
     "name": "stdout",
     "output_type": "stream",
     "text": [
      "              precision    recall  f1-score   support\n",
      "\n",
      "           0       0.29      0.54      0.38       372\n",
      "           1       0.80      0.71      0.75      1733\n",
      "           2       0.63      0.47      0.54      1457\n",
      "           3       0.35      0.45      0.39       672\n",
      "           4       0.70      0.76      0.73       594\n",
      "\n",
      "    accuracy                           0.59      4828\n",
      "   macro avg       0.55      0.58      0.56      4828\n",
      "weighted avg       0.63      0.59      0.60      4828\n",
      "\n"
     ]
    }
   ],
   "source": [
    "print(classification_report(y_pred, y_test))"
   ]
  },
  {
   "cell_type": "code",
   "execution_count": 30,
   "id": "d61496fc",
   "metadata": {},
   "outputs": [
    {
     "data": {
      "text/html": [
       "<style>#sk-container-id-2 {color: black;background-color: white;}#sk-container-id-2 pre{padding: 0;}#sk-container-id-2 div.sk-toggleable {background-color: white;}#sk-container-id-2 label.sk-toggleable__label {cursor: pointer;display: block;width: 100%;margin-bottom: 0;padding: 0.3em;box-sizing: border-box;text-align: center;}#sk-container-id-2 label.sk-toggleable__label-arrow:before {content: \"▸\";float: left;margin-right: 0.25em;color: #696969;}#sk-container-id-2 label.sk-toggleable__label-arrow:hover:before {color: black;}#sk-container-id-2 div.sk-estimator:hover label.sk-toggleable__label-arrow:before {color: black;}#sk-container-id-2 div.sk-toggleable__content {max-height: 0;max-width: 0;overflow: hidden;text-align: left;background-color: #f0f8ff;}#sk-container-id-2 div.sk-toggleable__content pre {margin: 0.2em;color: black;border-radius: 0.25em;background-color: #f0f8ff;}#sk-container-id-2 input.sk-toggleable__control:checked~div.sk-toggleable__content {max-height: 200px;max-width: 100%;overflow: auto;}#sk-container-id-2 input.sk-toggleable__control:checked~label.sk-toggleable__label-arrow:before {content: \"▾\";}#sk-container-id-2 div.sk-estimator input.sk-toggleable__control:checked~label.sk-toggleable__label {background-color: #d4ebff;}#sk-container-id-2 div.sk-label input.sk-toggleable__control:checked~label.sk-toggleable__label {background-color: #d4ebff;}#sk-container-id-2 input.sk-hidden--visually {border: 0;clip: rect(1px 1px 1px 1px);clip: rect(1px, 1px, 1px, 1px);height: 1px;margin: -1px;overflow: hidden;padding: 0;position: absolute;width: 1px;}#sk-container-id-2 div.sk-estimator {font-family: monospace;background-color: #f0f8ff;border: 1px dotted black;border-radius: 0.25em;box-sizing: border-box;margin-bottom: 0.5em;}#sk-container-id-2 div.sk-estimator:hover {background-color: #d4ebff;}#sk-container-id-2 div.sk-parallel-item::after {content: \"\";width: 100%;border-bottom: 1px solid gray;flex-grow: 1;}#sk-container-id-2 div.sk-label:hover label.sk-toggleable__label {background-color: #d4ebff;}#sk-container-id-2 div.sk-serial::before {content: \"\";position: absolute;border-left: 1px solid gray;box-sizing: border-box;top: 0;bottom: 0;left: 50%;z-index: 0;}#sk-container-id-2 div.sk-serial {display: flex;flex-direction: column;align-items: center;background-color: white;padding-right: 0.2em;padding-left: 0.2em;position: relative;}#sk-container-id-2 div.sk-item {position: relative;z-index: 1;}#sk-container-id-2 div.sk-parallel {display: flex;align-items: stretch;justify-content: center;background-color: white;position: relative;}#sk-container-id-2 div.sk-item::before, #sk-container-id-2 div.sk-parallel-item::before {content: \"\";position: absolute;border-left: 1px solid gray;box-sizing: border-box;top: 0;bottom: 0;left: 50%;z-index: -1;}#sk-container-id-2 div.sk-parallel-item {display: flex;flex-direction: column;z-index: 1;position: relative;background-color: white;}#sk-container-id-2 div.sk-parallel-item:first-child::after {align-self: flex-end;width: 50%;}#sk-container-id-2 div.sk-parallel-item:last-child::after {align-self: flex-start;width: 50%;}#sk-container-id-2 div.sk-parallel-item:only-child::after {width: 0;}#sk-container-id-2 div.sk-dashed-wrapped {border: 1px dashed gray;margin: 0 0.4em 0.5em 0.4em;box-sizing: border-box;padding-bottom: 0.4em;background-color: white;}#sk-container-id-2 div.sk-label label {font-family: monospace;font-weight: bold;display: inline-block;line-height: 1.2em;}#sk-container-id-2 div.sk-label-container {text-align: center;}#sk-container-id-2 div.sk-container {/* jupyter's `normalize.less` sets `[hidden] { display: none; }` but bootstrap.min.css set `[hidden] { display: none !important; }` so we also need the `!important` here to be able to override the default hidden behavior on the sphinx rendered scikit-learn.org. See: https://github.com/scikit-learn/scikit-learn/issues/21755 */display: inline-block !important;position: relative;}#sk-container-id-2 div.sk-text-repr-fallback {display: none;}</style><div id=\"sk-container-id-2\" class=\"sk-top-container\"><div class=\"sk-text-repr-fallback\"><pre>GradientBoostingClassifier(learning_rate=0.01, loss=&#x27;deviance&#x27;, max_depth=10,\n",
       "                           max_features=&#x27;sqrt&#x27;, min_samples_leaf=2,\n",
       "                           min_samples_split=4, n_estimators=500,\n",
       "                           subsample=0.6)</pre><b>In a Jupyter environment, please rerun this cell to show the HTML representation or trust the notebook. <br />On GitHub, the HTML representation is unable to render, please try loading this page with nbviewer.org.</b></div><div class=\"sk-container\" hidden><div class=\"sk-item\"><div class=\"sk-estimator sk-toggleable\"><input class=\"sk-toggleable__control sk-hidden--visually\" id=\"sk-estimator-id-2\" type=\"checkbox\" checked><label for=\"sk-estimator-id-2\" class=\"sk-toggleable__label sk-toggleable__label-arrow\">GradientBoostingClassifier</label><div class=\"sk-toggleable__content\"><pre>GradientBoostingClassifier(learning_rate=0.01, loss=&#x27;deviance&#x27;, max_depth=10,\n",
       "                           max_features=&#x27;sqrt&#x27;, min_samples_leaf=2,\n",
       "                           min_samples_split=4, n_estimators=500,\n",
       "                           subsample=0.6)</pre></div></div></div></div></div>"
      ],
      "text/plain": [
       "GradientBoostingClassifier(learning_rate=0.01, loss='deviance', max_depth=10,\n",
       "                           max_features='sqrt', min_samples_leaf=2,\n",
       "                           min_samples_split=4, n_estimators=500,\n",
       "                           subsample=0.6)"
      ]
     },
     "execution_count": 30,
     "metadata": {},
     "output_type": "execute_result"
    }
   ],
   "source": [
    "model"
   ]
  },
  {
   "cell_type": "code",
   "execution_count": 31,
   "id": "062e60ca",
   "metadata": {},
   "outputs": [],
   "source": [
    "import pickle as pk\n",
    "\n",
    "with open('model9_nose_boost185', 'wb') as f:\n",
    "    pk.dump(model, f)"
   ]
  },
  {
   "cell_type": "code",
   "execution_count": null,
   "id": "32594f36",
   "metadata": {},
   "outputs": [],
   "source": []
  },
  {
   "cell_type": "code",
   "execution_count": 34,
   "id": "a86760ce",
   "metadata": {},
   "outputs": [],
   "source": [
    "with open(\"model9_nose_boost185\", \"rb\") as f:\n",
    "    model_boost = pk.load(f)\n",
    "    f.close()"
   ]
  },
  {
   "cell_type": "code",
   "execution_count": 35,
   "id": "414f4302",
   "metadata": {},
   "outputs": [
    {
     "data": {
      "text/html": [
       "<style>#sk-container-id-4 {color: black;background-color: white;}#sk-container-id-4 pre{padding: 0;}#sk-container-id-4 div.sk-toggleable {background-color: white;}#sk-container-id-4 label.sk-toggleable__label {cursor: pointer;display: block;width: 100%;margin-bottom: 0;padding: 0.3em;box-sizing: border-box;text-align: center;}#sk-container-id-4 label.sk-toggleable__label-arrow:before {content: \"▸\";float: left;margin-right: 0.25em;color: #696969;}#sk-container-id-4 label.sk-toggleable__label-arrow:hover:before {color: black;}#sk-container-id-4 div.sk-estimator:hover label.sk-toggleable__label-arrow:before {color: black;}#sk-container-id-4 div.sk-toggleable__content {max-height: 0;max-width: 0;overflow: hidden;text-align: left;background-color: #f0f8ff;}#sk-container-id-4 div.sk-toggleable__content pre {margin: 0.2em;color: black;border-radius: 0.25em;background-color: #f0f8ff;}#sk-container-id-4 input.sk-toggleable__control:checked~div.sk-toggleable__content {max-height: 200px;max-width: 100%;overflow: auto;}#sk-container-id-4 input.sk-toggleable__control:checked~label.sk-toggleable__label-arrow:before {content: \"▾\";}#sk-container-id-4 div.sk-estimator input.sk-toggleable__control:checked~label.sk-toggleable__label {background-color: #d4ebff;}#sk-container-id-4 div.sk-label input.sk-toggleable__control:checked~label.sk-toggleable__label {background-color: #d4ebff;}#sk-container-id-4 input.sk-hidden--visually {border: 0;clip: rect(1px 1px 1px 1px);clip: rect(1px, 1px, 1px, 1px);height: 1px;margin: -1px;overflow: hidden;padding: 0;position: absolute;width: 1px;}#sk-container-id-4 div.sk-estimator {font-family: monospace;background-color: #f0f8ff;border: 1px dotted black;border-radius: 0.25em;box-sizing: border-box;margin-bottom: 0.5em;}#sk-container-id-4 div.sk-estimator:hover {background-color: #d4ebff;}#sk-container-id-4 div.sk-parallel-item::after {content: \"\";width: 100%;border-bottom: 1px solid gray;flex-grow: 1;}#sk-container-id-4 div.sk-label:hover label.sk-toggleable__label {background-color: #d4ebff;}#sk-container-id-4 div.sk-serial::before {content: \"\";position: absolute;border-left: 1px solid gray;box-sizing: border-box;top: 0;bottom: 0;left: 50%;z-index: 0;}#sk-container-id-4 div.sk-serial {display: flex;flex-direction: column;align-items: center;background-color: white;padding-right: 0.2em;padding-left: 0.2em;position: relative;}#sk-container-id-4 div.sk-item {position: relative;z-index: 1;}#sk-container-id-4 div.sk-parallel {display: flex;align-items: stretch;justify-content: center;background-color: white;position: relative;}#sk-container-id-4 div.sk-item::before, #sk-container-id-4 div.sk-parallel-item::before {content: \"\";position: absolute;border-left: 1px solid gray;box-sizing: border-box;top: 0;bottom: 0;left: 50%;z-index: -1;}#sk-container-id-4 div.sk-parallel-item {display: flex;flex-direction: column;z-index: 1;position: relative;background-color: white;}#sk-container-id-4 div.sk-parallel-item:first-child::after {align-self: flex-end;width: 50%;}#sk-container-id-4 div.sk-parallel-item:last-child::after {align-self: flex-start;width: 50%;}#sk-container-id-4 div.sk-parallel-item:only-child::after {width: 0;}#sk-container-id-4 div.sk-dashed-wrapped {border: 1px dashed gray;margin: 0 0.4em 0.5em 0.4em;box-sizing: border-box;padding-bottom: 0.4em;background-color: white;}#sk-container-id-4 div.sk-label label {font-family: monospace;font-weight: bold;display: inline-block;line-height: 1.2em;}#sk-container-id-4 div.sk-label-container {text-align: center;}#sk-container-id-4 div.sk-container {/* jupyter's `normalize.less` sets `[hidden] { display: none; }` but bootstrap.min.css set `[hidden] { display: none !important; }` so we also need the `!important` here to be able to override the default hidden behavior on the sphinx rendered scikit-learn.org. See: https://github.com/scikit-learn/scikit-learn/issues/21755 */display: inline-block !important;position: relative;}#sk-container-id-4 div.sk-text-repr-fallback {display: none;}</style><div id=\"sk-container-id-4\" class=\"sk-top-container\"><div class=\"sk-text-repr-fallback\"><pre>GradientBoostingClassifier(learning_rate=0.01, loss=&#x27;deviance&#x27;, max_depth=10,\n",
       "                           max_features=&#x27;sqrt&#x27;, min_samples_leaf=2,\n",
       "                           min_samples_split=4, n_estimators=500,\n",
       "                           subsample=0.6)</pre><b>In a Jupyter environment, please rerun this cell to show the HTML representation or trust the notebook. <br />On GitHub, the HTML representation is unable to render, please try loading this page with nbviewer.org.</b></div><div class=\"sk-container\" hidden><div class=\"sk-item\"><div class=\"sk-estimator sk-toggleable\"><input class=\"sk-toggleable__control sk-hidden--visually\" id=\"sk-estimator-id-4\" type=\"checkbox\" checked><label for=\"sk-estimator-id-4\" class=\"sk-toggleable__label sk-toggleable__label-arrow\">GradientBoostingClassifier</label><div class=\"sk-toggleable__content\"><pre>GradientBoostingClassifier(learning_rate=0.01, loss=&#x27;deviance&#x27;, max_depth=10,\n",
       "                           max_features=&#x27;sqrt&#x27;, min_samples_leaf=2,\n",
       "                           min_samples_split=4, n_estimators=500,\n",
       "                           subsample=0.6)</pre></div></div></div></div></div>"
      ],
      "text/plain": [
       "GradientBoostingClassifier(learning_rate=0.01, loss='deviance', max_depth=10,\n",
       "                           max_features='sqrt', min_samples_leaf=2,\n",
       "                           min_samples_split=4, n_estimators=500,\n",
       "                           subsample=0.6)"
      ]
     },
     "execution_count": 35,
     "metadata": {},
     "output_type": "execute_result"
    }
   ],
   "source": [
    "model_boost"
   ]
  },
  {
   "cell_type": "code",
   "execution_count": null,
   "id": "d9013096",
   "metadata": {},
   "outputs": [],
   "source": []
  }
 ],
 "metadata": {
  "kernelspec": {
   "display_name": "Python 3 (ipykernel)",
   "language": "python",
   "name": "python3"
  },
  "language_info": {
   "codemirror_mode": {
    "name": "ipython",
    "version": 3
   },
   "file_extension": ".py",
   "mimetype": "text/x-python",
   "name": "python",
   "nbconvert_exporter": "python",
   "pygments_lexer": "ipython3",
   "version": "3.9.16"
  }
 },
 "nbformat": 4,
 "nbformat_minor": 5
}
